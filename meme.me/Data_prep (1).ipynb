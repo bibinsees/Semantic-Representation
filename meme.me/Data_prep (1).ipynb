{
  "cells": [
    {
      "cell_type": "code",
      "execution_count": null,
      "metadata": {
        "colab": {
          "base_uri": "https://localhost:8080/"
        },
        "id": "f6EP0_PkCLeH",
        "outputId": "eb2e0de6-bbfb-4b75-95ed-73c6ea8229d4"
      },
      "outputs": [
        {
          "name": "stdout",
          "output_type": "stream",
          "text": [
            "Drive already mounted at /content/drive; to attempt to forcibly remount, call drive.mount(\"/content/drive\", force_remount=True).\n"
          ]
        }
      ],
      "source": [
        "from google.colab import drive\n",
        "drive.mount('/content/drive')"
      ]
    },
    {
      "cell_type": "code",
      "execution_count": null,
      "metadata": {
        "colab": {
          "base_uri": "https://localhost:8080/"
        },
        "id": "nzM-D0HeIHdD",
        "outputId": "6e48688e-1de6-49b2-c599-55e560e0ec62"
      },
      "outputs": [
        {
          "name": "stdout",
          "output_type": "stream",
          "text": [
            "Requirement already satisfied: datasets in /usr/local/lib/python3.10/dist-packages (2.16.1)\n",
            "Requirement already satisfied: filelock in /usr/local/lib/python3.10/dist-packages (from datasets) (3.13.1)\n",
            "Requirement already satisfied: numpy>=1.17 in /usr/local/lib/python3.10/dist-packages (from datasets) (1.23.5)\n",
            "Requirement already satisfied: pyarrow>=8.0.0 in /usr/local/lib/python3.10/dist-packages (from datasets) (10.0.1)\n",
            "Requirement already satisfied: pyarrow-hotfix in /usr/local/lib/python3.10/dist-packages (from datasets) (0.6)\n",
            "Requirement already satisfied: dill<0.3.8,>=0.3.0 in /usr/local/lib/python3.10/dist-packages (from datasets) (0.3.7)\n",
            "Requirement already satisfied: pandas in /usr/local/lib/python3.10/dist-packages (from datasets) (1.5.3)\n",
            "Requirement already satisfied: requests>=2.19.0 in /usr/local/lib/python3.10/dist-packages (from datasets) (2.31.0)\n",
            "Requirement already satisfied: tqdm>=4.62.1 in /usr/local/lib/python3.10/dist-packages (from datasets) (4.66.1)\n",
            "Requirement already satisfied: xxhash in /usr/local/lib/python3.10/dist-packages (from datasets) (3.4.1)\n",
            "Requirement already satisfied: multiprocess in /usr/local/lib/python3.10/dist-packages (from datasets) (0.70.15)\n",
            "Requirement already satisfied: fsspec[http]<=2023.10.0,>=2023.1.0 in /usr/local/lib/python3.10/dist-packages (from datasets) (2023.6.0)\n",
            "Requirement already satisfied: aiohttp in /usr/local/lib/python3.10/dist-packages (from datasets) (3.9.1)\n",
            "Requirement already satisfied: huggingface-hub>=0.19.4 in /usr/local/lib/python3.10/dist-packages (from datasets) (0.20.2)\n",
            "Requirement already satisfied: packaging in /usr/local/lib/python3.10/dist-packages (from datasets) (23.2)\n",
            "Requirement already satisfied: pyyaml>=5.1 in /usr/local/lib/python3.10/dist-packages (from datasets) (6.0.1)\n",
            "Requirement already satisfied: attrs>=17.3.0 in /usr/local/lib/python3.10/dist-packages (from aiohttp->datasets) (23.2.0)\n",
            "Requirement already satisfied: multidict<7.0,>=4.5 in /usr/local/lib/python3.10/dist-packages (from aiohttp->datasets) (6.0.4)\n",
            "Requirement already satisfied: yarl<2.0,>=1.0 in /usr/local/lib/python3.10/dist-packages (from aiohttp->datasets) (1.9.4)\n",
            "Requirement already satisfied: frozenlist>=1.1.1 in /usr/local/lib/python3.10/dist-packages (from aiohttp->datasets) (1.4.1)\n",
            "Requirement already satisfied: aiosignal>=1.1.2 in /usr/local/lib/python3.10/dist-packages (from aiohttp->datasets) (1.3.1)\n",
            "Requirement already satisfied: async-timeout<5.0,>=4.0 in /usr/local/lib/python3.10/dist-packages (from aiohttp->datasets) (4.0.3)\n",
            "Requirement already satisfied: typing-extensions>=3.7.4.3 in /usr/local/lib/python3.10/dist-packages (from huggingface-hub>=0.19.4->datasets) (4.5.0)\n",
            "Requirement already satisfied: charset-normalizer<4,>=2 in /usr/local/lib/python3.10/dist-packages (from requests>=2.19.0->datasets) (3.3.2)\n",
            "Requirement already satisfied: idna<4,>=2.5 in /usr/local/lib/python3.10/dist-packages (from requests>=2.19.0->datasets) (3.6)\n",
            "Requirement already satisfied: urllib3<3,>=1.21.1 in /usr/local/lib/python3.10/dist-packages (from requests>=2.19.0->datasets) (2.0.7)\n",
            "Requirement already satisfied: certifi>=2017.4.17 in /usr/local/lib/python3.10/dist-packages (from requests>=2.19.0->datasets) (2023.11.17)\n",
            "Requirement already satisfied: python-dateutil>=2.8.1 in /usr/local/lib/python3.10/dist-packages (from pandas->datasets) (2.8.2)\n",
            "Requirement already satisfied: pytz>=2020.1 in /usr/local/lib/python3.10/dist-packages (from pandas->datasets) (2023.3.post1)\n",
            "Requirement already satisfied: six>=1.5 in /usr/local/lib/python3.10/dist-packages (from python-dateutil>=2.8.1->pandas->datasets) (1.16.0)\n"
          ]
        }
      ],
      "source": [
        "pip install datasets"
      ]
    },
    {
      "cell_type": "code",
      "execution_count": null,
      "metadata": {
        "colab": {
          "base_uri": "https://localhost:8080/"
        },
        "id": "xN8xsCVoIXkT",
        "outputId": "bc374faa-2e07-4c70-e112-bc984992cb9b"
      },
      "outputs": [
        {
          "name": "stdout",
          "output_type": "stream",
          "text": [
            "\n",
            "    _|    _|  _|    _|    _|_|_|    _|_|_|  _|_|_|  _|      _|    _|_|_|      _|_|_|_|    _|_|      _|_|_|  _|_|_|_|\n",
            "    _|    _|  _|    _|  _|        _|          _|    _|_|    _|  _|            _|        _|    _|  _|        _|\n",
            "    _|_|_|_|  _|    _|  _|  _|_|  _|  _|_|    _|    _|  _|  _|  _|  _|_|      _|_|_|    _|_|_|_|  _|        _|_|_|\n",
            "    _|    _|  _|    _|  _|    _|  _|    _|    _|    _|    _|_|  _|    _|      _|        _|    _|  _|        _|\n",
            "    _|    _|    _|_|      _|_|_|    _|_|_|  _|_|_|  _|      _|    _|_|_|      _|        _|    _|    _|_|_|  _|_|_|_|\n",
            "\n",
            "    A token is already saved on your machine. Run `huggingface-cli whoami` to get more information or `huggingface-cli logout` if you want to log out.\n",
            "    Setting a new token will erase the existing one.\n",
            "    To login, `huggingface_hub` requires a token generated from https://huggingface.co/settings/tokens .\n",
            "Token: \n",
            "Add token as git credential? (Y/n) n\n",
            "Token is valid (permission: write).\n",
            "Your token has been saved to /root/.cache/huggingface/token\n",
            "Login successful\n"
          ]
        }
      ],
      "source": [
        "!huggingface-cli login"
      ]
    },
    {
      "cell_type": "code",
      "execution_count": null,
      "metadata": {
        "id": "9XcQRR8eIA1C"
      },
      "outputs": [],
      "source": [
        "import datasets\n",
        "from datasets import load_dataset"
      ]
    },
    {
      "cell_type": "code",
      "execution_count": null,
      "metadata": {
        "id": "ft7svY6XELWI"
      },
      "outputs": [],
      "source": [
        "import json"
      ]
    },
    {
      "cell_type": "code",
      "execution_count": null,
      "metadata": {
        "id": "5gS6y8DQB569"
      },
      "outputs": [],
      "source": [
        "data = [\n",
        "    {\n",
        "        'input': 'Below is an educational content. Make a meme caption out of it. \\n\\n### Content:\\nSchrödinger\\'s cat is a thought experiment in quantum mechanics where a cat in a sealed box can be simultaneously considered alive and dead due to quantum superposition. This paradox highlights the strange and often contradictory nature of quantum mechanics, where things don\\'t always follow the logic of everyday life.',\n",
        "        'output': \"Schrödinger's cat: the only pet who can play dead and take it literally.\"\n",
        "    },\n",
        "    {\n",
        "        'input': 'Below is an educational content. Make a meme caption out of it. \\n\\n### content:\\nParallel lines in geometry will never intersect, no matter how far they extend.\\n',\n",
        "        'output': 'Parallel lines have so much in common. It’s a shame they’ll never meet.'\n",
        "    }\n",
        "]"
      ]
    },
    {
      "cell_type": "code",
      "execution_count": null,
      "metadata": {
        "colab": {
          "base_uri": "https://localhost:8080/",
          "height": 245
        },
        "id": "U77BPpKGCcEW",
        "outputId": "d290667c-d99e-4542-d7d6-068de9e35c9a"
      },
      "outputs": [
        {
          "ename": "NameError",
          "evalue": "name 'data' is not defined",
          "output_type": "error",
          "traceback": [
            "\u001b[0;31m---------------------------------------------------------------------------\u001b[0m",
            "\u001b[0;31mNameError\u001b[0m                                 Traceback (most recent call last)",
            "\u001b[0;32m<ipython-input-5-02b4bd6c0413>\u001b[0m in \u001b[0;36m<cell line: 4>\u001b[0;34m()\u001b[0m\n\u001b[1;32m      3\u001b[0m \u001b[0;34m\u001b[0m\u001b[0m\n\u001b[1;32m      4\u001b[0m \u001b[0;32mwith\u001b[0m \u001b[0mopen\u001b[0m\u001b[0;34m(\u001b[0m\u001b[0mfile_path\u001b[0m\u001b[0;34m,\u001b[0m \u001b[0;34m'w'\u001b[0m\u001b[0;34m)\u001b[0m \u001b[0;32mas\u001b[0m \u001b[0mf\u001b[0m\u001b[0;34m:\u001b[0m\u001b[0;34m\u001b[0m\u001b[0;34m\u001b[0m\u001b[0m\n\u001b[0;32m----> 5\u001b[0;31m     \u001b[0;32mfor\u001b[0m \u001b[0mentry\u001b[0m \u001b[0;32min\u001b[0m \u001b[0mdata\u001b[0m\u001b[0;34m:\u001b[0m\u001b[0;34m\u001b[0m\u001b[0;34m\u001b[0m\u001b[0m\n\u001b[0m\u001b[1;32m      6\u001b[0m         \u001b[0mjson\u001b[0m\u001b[0;34m.\u001b[0m\u001b[0mdump\u001b[0m\u001b[0;34m(\u001b[0m\u001b[0mentry\u001b[0m\u001b[0;34m,\u001b[0m \u001b[0mf\u001b[0m\u001b[0;34m)\u001b[0m\u001b[0;34m\u001b[0m\u001b[0;34m\u001b[0m\u001b[0m\n\u001b[1;32m      7\u001b[0m         \u001b[0mf\u001b[0m\u001b[0;34m.\u001b[0m\u001b[0mwrite\u001b[0m\u001b[0;34m(\u001b[0m\u001b[0;34m'\\n'\u001b[0m\u001b[0;34m)\u001b[0m\u001b[0;34m\u001b[0m\u001b[0;34m\u001b[0m\u001b[0m\n",
            "\u001b[0;31mNameError\u001b[0m: name 'data' is not defined"
          ]
        }
      ],
      "source": [
        "#saving data into .jsonl format\n",
        "file_path = '/content/drive/My Drive/Maime/meme_captions.jsonl'\n",
        "\n",
        "with open(file_path, 'w') as f:\n",
        "    for entry in data:\n",
        "        json.dump(entry, f)\n",
        "        f.write('\\n')"
      ]
    },
    {
      "cell_type": "code",
      "execution_count": null,
      "metadata": {
        "id": "8WTmIKjqDVy0"
      },
      "outputs": [],
      "source": [
        "file_path = '/content/drive/My Drive/Maime/meme_captions.jsonl'"
      ]
    },
    {
      "cell_type": "code",
      "execution_count": null,
      "metadata": {
        "id": "_miX3P4yCgTp"
      },
      "outputs": [],
      "source": [
        "# Load the data from the JSONL file\n",
        "data = []\n",
        "with open(file_path, 'r') as f:\n",
        "    for line in f:\n",
        "        data_point = json.loads(line)\n",
        "        data.append(data_point)\n",
        "\n",
        "# Print the loaded data points\n",
        "for entry in data:\n",
        "    print(entry)\n"
      ]
    },
    {
      "cell_type": "code",
      "execution_count": null,
      "metadata": {
        "id": "AjGjZxfGCkGi"
      },
      "outputs": [],
      "source": [
        "new_data_points = [{\n",
        "    'input': 'Below is educational content. Make a meme caption out of it. \\n\\n### Content:\\nMitosis is a process where a single cell divides into two identical daughter cells, each containing the same number of chromosomes as the parent cell. It’s essential for growth, development, and tissue repair.\\n',\n",
        "    'output': 'Mitosis: because when cells decide to split, they actually mean \"let’s make twinsies!\"'\n",
        "    }]\n"
      ]
    },
    {
      "cell_type": "code",
      "execution_count": null,
      "metadata": {
        "id": "1RoI4VnACmZd"
      },
      "outputs": [],
      "source": [
        "# Append each new data point to the file\n",
        "with open(file_path, 'a') as f:\n",
        "    for data_point in new_data_points:\n",
        "        json.dump(data_point, f)\n",
        "        f.write('\\n')\n"
      ]
    },
    {
      "cell_type": "code",
      "execution_count": null,
      "metadata": {
        "colab": {
          "base_uri": "https://localhost:8080/"
        },
        "id": "E7VieaBbCpZk",
        "outputId": "804d1de2-fca0-4927-b78a-8f792733beac"
      },
      "outputs": [
        {
          "name": "stdout",
          "output_type": "stream",
          "text": [
            "{'input': \"Below is educational content. Make a meme caption out of it. \\n\\n### Content:\\nSchrödinger's cat is a thought experiment in quantum mechanics where a cat in a sealed box can be simultaneously considered alive and dead due to quantum superposition. This paradox highlights the strange and often contradictory nature of quantum mechanics, where things don't always follow the logic of everyday life.\", 'output': \"Schrödinger's cat: the only pet who can play dead and take it literally.\"}\n",
            "{'input': 'Below is educational content. Make a meme caption out of it. \\n\\n### content:\\nParallel lines in geometry will never intersect, no matter how far they extend.\\n', 'output': 'Parallel lines have so much in common. It’s a shame they’ll never meet.'}\n",
            "{'input': 'Below is educational content. Make a meme caption out of it. \\n\\n### Content:\\nA black hole is a region of spacetime where gravity is so strong that nothing, not even light, can escape.\\n', 'output': 'Black holes: where even light cannot escape the friend zone.'}\n",
            "{'input': 'Below is educational content. Make a meme caption out of it. \\n\\n### Content:\\nMitosis is a process where a single cell divides into two identical daughter cells, each containing the same number of chromosomes as the parent cell. It’s essential for growth, development, and tissue repair.\\n', 'output': 'Mitosis: because when cells decide to split, they actually mean \"let’s make twinsies!\"'}\n"
          ]
        }
      ],
      "source": [
        "# Load the dataset from the JSONL file\n",
        "loaded_data = []\n",
        "with open(file_path, 'r') as f:\n",
        "    for line in f:\n",
        "        loaded_data.append(json.loads(line))\n",
        "\n",
        "# Print the loaded data\n",
        "for entry in loaded_data:\n",
        "    print(entry)\n"
      ]
    },
    {
      "cell_type": "code",
      "execution_count": null,
      "metadata": {
        "colab": {
          "base_uri": "https://localhost:8080/",
          "height": 148,
          "referenced_widgets": [
            "00c093b49fa14cd1b2043f39129dd8f6",
            "c7759b0426f04be6834e3f640f72fdc8",
            "c54ef66994e64fa78386b22a27519385",
            "bf7bb495e31d49edb0aad4ee01e6ff59",
            "fbed04abe3ba4d17b82c095a640aa9f5",
            "6f765f06e6794f839a0e1c0eeb7f49cd",
            "185aaab55a7e4bd1b365a5fc91aec680",
            "7aa9b6023b6c4195acc34bc782bf0f29",
            "a8a78d811a904479b5ee072e752c73c9",
            "cf4e7483ad904d1cafc8cbc65de11428",
            "ecfeb1cc51cf4b4da8f081a778df828f",
            "04ea0558cf1e489da50c0c8c5e8d2515",
            "f64efbcf46d642ea930b1844c9f1591a",
            "7849355ef7374caeb978a2fde46f88f1",
            "af1925fc29e147569a2e6bd2b6658050",
            "d5a02bfd9594435e90da6715a7bd3416",
            "2fe3231a42444179a0aa31723b1cc99f",
            "3770e31eafc54ba5a42a3fa412fadc00",
            "0b41c3ba86e6476a8e30929c59bdf598",
            "7cd2ca7b7f2b47c8b8854588e1957288",
            "7a5cf50458db4d198d4c9aee83627676",
            "b5a05690014645ddae20e00e6065bb9e",
            "62d323b5067c45c2a14aeca121ba5a18",
            "c31cd28e5a504bbea9c5136283a6acc6",
            "b82b7348d2a24193b1048b01b18f3989",
            "7c5c1f65e7594009a7a41c8061647acd",
            "609dedbee5d448459830bbeb81328d69",
            "94946f66cddd49ce8482b4e913decf81",
            "e21295f554a147cf82186e10ebb57ec7",
            "d676ef8c99fe4da583f8e4b3ffd8e427",
            "377e64ab82f449fa9669f2f50bae0b19",
            "2a8eda658bf943708b8423476a635e93",
            "ac384ddf04a84d07a3dee00f3300a13f"
          ]
        },
        "id": "HDFqnUeWCr8p",
        "outputId": "925be96b-fede-4ccb-817e-588f690a5561"
      },
      "outputs": [
        {
          "data": {
            "application/vnd.jupyter.widget-view+json": {
              "model_id": "00c093b49fa14cd1b2043f39129dd8f6",
              "version_major": 2,
              "version_minor": 0
            },
            "text/plain": [
              "Uploading the dataset shards:   0%|          | 0/1 [00:00<?, ?it/s]"
            ]
          },
          "metadata": {},
          "output_type": "display_data"
        },
        {
          "data": {
            "application/vnd.jupyter.widget-view+json": {
              "model_id": "04ea0558cf1e489da50c0c8c5e8d2515",
              "version_major": 2,
              "version_minor": 0
            },
            "text/plain": [
              "Creating parquet from Arrow format:   0%|          | 0/1 [00:00<?, ?ba/s]"
            ]
          },
          "metadata": {},
          "output_type": "display_data"
        },
        {
          "data": {
            "application/vnd.jupyter.widget-view+json": {
              "model_id": "62d323b5067c45c2a14aeca121ba5a18",
              "version_major": 2,
              "version_minor": 0
            },
            "text/plain": [
              "README.md:   0%|          | 0.00/296 [00:00<?, ?B/s]"
            ]
          },
          "metadata": {},
          "output_type": "display_data"
        },
        {
          "data": {
            "application/vnd.google.colaboratory.intrinsic+json": {
              "type": "string"
            },
            "text/plain": [
              "CommitInfo(commit_url='https://huggingface.co/datasets/bibinsee/maime/commit/50605f9a9fa548099a1bf372b2c0a3db441afd17', commit_message='Upload dataset', commit_description='', oid='50605f9a9fa548099a1bf372b2c0a3db441afd17', pr_url=None, pr_revision=None, pr_num=None)"
            ]
          },
          "execution_count": 19,
          "metadata": {},
          "output_type": "execute_result"
        }
      ],
      "source": [
        "# Load the dataset without specifying a split\n",
        "dataset = load_dataset(\"json\", data_files=file_path)\n",
        "dataset.push_to_hub(\"bibinsee/maime\")"
      ]
    },
    {
      "cell_type": "code",
      "execution_count": null,
      "metadata": {
        "id": "ATeVRUImINnm"
      },
      "outputs": [],
      "source": [
        "new_data = [\n",
        "    {'instruction': \"Create meme captions and provide a suitable contextual meme description for the given content\",\n",
        "     'content': \"Helium is a chemical element known for being lighter than air. It is commonly used in balloons, which float and rise when filled with helium.\",\n",
        "     'response': '\"I was reading a book on helium\" (Image:A guy with a serious face) \"I couldn’t put it down!\"(Image: Same guy with laugh-exploding face).'\n",
        "    },\n",
        "    {\n",
        "        'instruction': \"Create meme captions and provide a suitable contextual meme description for the given content.\",\n",
        "        'content': \"Schrödinger's cat is a thought experiment in quantum mechanics where a cat in a sealed box can be simultaneously considered alive and dead due to quantum superposition. This paradox highlights the strange and often contradictory nature of quantum mechanics, where things don't always follow the logic of everyday life.\",\n",
        "        'response': \"Schrödinger's cat: The only pet who can play dead and take it literally (Image: A cat in a sealed box with a playful and tricky expression).\"\n",
        "    }\n",
        "]"
      ]
    },
    {
      "cell_type": "code",
      "execution_count": null,
      "metadata": {
        "id": "_B_YzUsrQfzu"
      },
      "outputs": [],
      "source": [
        "#saving data into .jsonl format\n",
        "file_path = '/content/drive/My Drive/meme.me/meme_captions.jsonl'\n",
        "\n",
        "with open(file_path, 'w') as f:\n",
        "    for entry in new_data:\n",
        "        json.dump(entry, f)\n",
        "        f.write('\\n')"
      ]
    },
    {
      "cell_type": "code",
      "execution_count": null,
      "metadata": {
        "id": "JOKmTIXLXS_s"
      },
      "outputs": [],
      "source": [
        "# Load the data from the JSONL file\n",
        "data = []\n",
        "with open(file_path, 'r') as f:\n",
        "    for line in f:\n",
        "        data_point = json.loads(line)\n",
        "        data.append(data_point)\n",
        "\n",
        "# Print the loaded data points\n",
        "for entry in data:\n",
        "    print(entry)\n"
      ]
    },
    {
      "cell_type": "code",
      "execution_count": null,
      "metadata": {
        "id": "0FRqKc5_XY6R"
      },
      "outputs": [],
      "source": [
        "new_data_points = [\n",
        "{\n",
        "    'instruction': \"Create meme captions and provide a suitable contextual meme description for the given content.\",\n",
        "    'content': \"\\\"Ferrous\\\" refers to compounds or substances that contain iron. Iron atoms are chemically described as \\\"ferrous\\\" when they are in their ionic form with a +2 oxidation state.\",\n",
        "    'response': \"What do you call a bunch of iron atoms at a carnival? A ferrous wheel. (Image: Famous ferris wheel scene from the movie 'The Third Man' (1949), where the characters Harry Lime and Holly Martins have a tense conversation on a ferris wheel in Vienna.)\"\n",
        "},\n",
        "{\n",
        "    'instruction': \"Create meme captions and provide a suitable contextual meme description for the given content.\",\n",
        "    'content': \"A tangent is a straight line or line segment that touches a curve or circle at a single point without crossing through it. This point of contact is known as the point of tangency. Tangents are commonly used in geometry and calculus to study the relationship between curves and straight lines, and they help determine the slope or rate of change of a function at a specific point on a curve.\",\n",
        "    'response': \"What do you call a man who spent all summer at the beach? A tangent. (A tan gent.) (Image: The handsome body of Mitch Buchannon character from Baywatch.)\"\n",
        "},\n",
        "{\n",
        "    'instruction': \"Create meme captions and provide a suitable contextual meme description for the given content.\",\n",
        "    'content': \"In statistics, the term 'mean' refers to the average value of a set of numbers. It is calculated by adding up all the values in a dataset and dividing the sum by the total number of values. The mean provides a measure of central tendency and is often used to describe the typical or average value within a data set.\",\n",
        "    'response': \"Why did the student get upset when his teacher called him average? It was a mean thing to say! (Image: Film: 'Ferris Bueller's Day Off', Scene: The scene where the teacher, Mr. Rooney, is frustrated with Ferris Bueller's apparent truancy and makes a remark that upsets Ferris.)\"\n",
        "}\n",
        "]\n"
      ]
    },
    {
      "cell_type": "code",
      "execution_count": null,
      "metadata": {
        "id": "N3j8U93QiPtp"
      },
      "outputs": [],
      "source": [
        "file_path = '/content/drive/My Drive/meme.me/meme_captions.jsonl'"
      ]
    },
    {
      "cell_type": "code",
      "execution_count": null,
      "metadata": {
        "id": "c9vLV_y3Xbav"
      },
      "outputs": [],
      "source": [
        "# Append each new data point to the file\n",
        "with open(file_path, 'a') as f:\n",
        "    for data_point in new_data_points:\n",
        "        json.dump(data_point, f)\n",
        "        f.write('\\n')\n"
      ]
    },
    {
      "cell_type": "code",
      "execution_count": null,
      "metadata": {
        "colab": {
          "base_uri": "https://localhost:8080/"
        },
        "id": "jCIlWrrgXhH3",
        "outputId": "430e57b3-e15f-4fa4-fae3-032bbbf238e3"
      },
      "outputs": [
        {
          "name": "stdout",
          "output_type": "stream",
          "text": [
            "{'instruction': 'Create meme captions and provide a suitable contextual meme description for the given content', 'content': 'Helium is a chemical element known for being lighter than air. It is commonly used in balloons, which float and rise when filled with helium.', 'response': '\"I was reading a book on helium\" (Image:a guy with a serious face) \"I couldn’t put it down!\"(Image: Same guy with laugh exploding face).'}\n",
            "{'instruction': 'Create meme captions and provide a suitable contextual meme description for the given content.', 'content': \"Schrödinger's cat is a thought experiment in quantum mechanics where a cat in a sealed box can be simultaneously considered alive and dead due to quantum superposition. This paradox highlights the strange and often contradictory nature of quantum mechanics, where things don't always follow the logic of everyday life.\", 'response': \"Schrödinger's cat: the only pet who can play dead and take it literally (Image: A cat in a sealed box with a playful expression).\"}\n",
            "{'instruction': 'Create meme captions and provide a suitable contextual meme description for the given content.', 'content': 'Parallel lines in geometry will never intersect, no matter how far they extend.', 'response': 'Parallel lines have so much in common. It’s a shame they’ll never meet (Image: Boy and girl exchanging glances with unfulfilled potential).'}\n",
            "{'instruction': 'Create meme captions and provide a suitable contextual meme description for the given content.', 'content': 'Black hole is a region of spacetime where gravity is so strong that nothing, not even light, can escape.', 'response': 'Black holes: where even light cannot escape the friend zone (Image: Handsome muscular boy friend-zoned by beautiful girl).'}\n",
            "{'instruction': 'Create meme captions and provide a suitable contextual meme description for the given content.', 'content': 'Mitosis is a process where a single cell divides into two identical daughter cells, each containing the same number of chromosomes as the parent cell. It’s essential for growth, development, and tissue repair.', 'response': 'Mitosis: because when cells decide to split, they actually mean \"let’s make twinsies!\" (Image: Cell undergoing mitosis, splitting into two identical daughter cells, symbolizing the humorous concept of \"twinsies\" in cell division).'}\n",
            "{'instruction': 'Create meme captions and provide a suitable contextual meme description for the given content.', 'content': 'Watt is the unit of power.', 'response': \"With great power comes a great electricity bill (Image: Pakalu Papito tweet). Watt a powerful message! (Image: Reply to Pakalu Papito's tweet).\"}\n",
            "{'instruction': 'Create meme captions and provide a suitable contextual meme description for the given content.', 'content': '80% of our Body is water', 'response': 'Hey girl, do you love water? (Image: Howard Wolowitz character from Big Bang Theory with a sexy look) \"That means you love 80% of me\" (at the bottom of the image).'}\n",
            "{'instruction': 'Create meme captions and provide a suitable contextual meme description for the given content.', 'content': 'Air consists of Nitrogen, Oxygen, Argon, and carbon dioxide.', 'response': 'Love is in the air? (Image: Dwight Schrute character from The Office with a serious face) \"False. Nitrogen, Oxygen, Argon, and carbon dioxide are in the air\" (at the bottom of the image).'}\n",
            "{'instruction': 'Create meme captions and provide a suitable contextual meme description for the given content.', 'content': 'Sodium (Na) is a highly reactive metal that explodes on contact with water. Chlorine (Cl) is a poisonous gas. However, when combined, they form Sodium Chloride (NaCl), which is an essential food preservative and flavoring agent known as table salt.', 'response': \"When Sodium and Chlorine go on a date, it's explosive at first, but then they settle down and become the salt of the earth. (Image: The HULK looking aggressive with a caption 'Sodium (Na), highly reactive explodes in contact with water.' The second portrayal of the HULK distressed with a caption 'Chlorine (Cl), poisonous/deadly gas.' Thirdly Shrek cheerful with a caption 'Sodium chloride (NaCl), Food preservative and flavoring agent.')\"}\n",
            "{'instruction': 'Create meme captions and provide a suitable contextual meme description for the given content.', 'content': 'Microchips or integrated circuits, are essential computer hardware components.', 'response': \"Computer's favorite snack? Microchips. (Image: A computer sitting at a table with a plate full of electronic chips, ready to dig in)\"}\n",
            "{'instruction': 'Create meme captions and provide a suitable contextual meme description for the given content.', 'content': 'A skeleton is the internal framework of bones that supports the body of an organism. In humans and other vertebrates, it serves multiple functions: Support: The skeleton provides a rigid structure that supports the body and maintains its shape. Protection: It encloses and protects vital organs. For example, the skull protects the brain, the rib cage protects the heart and lungs, and the vertebral column (spine) protects the spinal cord. Movement: Bones work in conjunction with muscles, tendons, and ligaments to enable movement. Muscles are attached to bones, and when they contract, they pull on the bones to produce motion. Production of Blood Cells: The bone marrow, found within some bones, is the site of red blood cell production. Storage of Minerals: Bones store minerals such as calcium and phosphorus, which can be released into the bloodstream as needed.', 'response': 'Why didn’t the skeleton go to the ball? Because he had no BODY to go with. (Image: A lonely skeleton looking sad)'}\n",
            "{'instruction': 'Create meme captions and provide a suitable contextual meme description for the given content.', 'content': 'A skeleton is the internal framework of bones that supports the body of an organism. In humans and other vertebrates, it serves multiple functions: Support: The skeleton provides a rigid structure that supports the body and maintains its shape. Protection: It encloses and protects vital organs. For example, the skull protects the brain, the rib cage protects the heart and lungs, and the vertebral column (spine) protects the spinal cord. Movement: Bones work in conjunction with muscles, tendons, and ligaments to enable movement. Muscles are attached to bones, and when they contract, they pull on the bones to produce motion. Production of Blood Cells: The bone marrow, found within some bones, is the site of red blood cell production. Storage of Minerals: Bones store minerals such as calcium and phosphorus, which can be released into the bloodstream as needed.', 'response': 'Why didn’t the skeleton cross the road? He didn’t have the guts. (Image: A sad skeleton at one side of road)'}\n",
            "{'instruction': 'Create meme captions and provide a suitable contextual meme description for the given content.', 'content': 'A buffer is a solution that can resist pH changes when an acid or base is added. It is typically made of a weak acid and its conjugate base, or a weak base and its conjugate acid. Buffers are important in maintaining stable pH levels in various chemical and biological contexts, such as in blood where it helps maintain a pH of approximately 7.4.', 'response': 'Why is the pH of YouTube very stable? Because it constantly buffers. (Image: A confused student looking at a buffering video on YouTube, with test tubes and pH paper in the background.)'}\n",
            "{'instruction': 'Create meme captions and provide a suitable contextual meme description for the given content.', 'content': 'Amino acids are organic compounds that serve as the building blocks of proteins. They play a critical role in various biological processes in living organisms. Each amino acid consists of a basic amino group (NH2), an acidic carboxyl group (COOH), and a unique side chain (R group) attached to a central carbon atom (alpha carbon). The properties of the amino acid are largely determined by its R group. Twenty standard amino acids are encoded by the genetic code in humans and many other organisms. These amino acids can be linked together in varying sequences to form proteins. The sequence of amino acids in a protein determines its structure and function.', 'response': \"What do you call an acid with an attitude? A-mean-oh-acid. Don't mess with me, baby!  (Attitude face of  Jules Winnfield in the film 'Pulp Fiction')\"}\n",
            "{'instruction': 'Create meme captions and provide a suitable contextual meme description for the given content.', 'content': 'A chemical solution is a homogeneous mixture of two or more substances, where one or more substances (solute) are dissolved in a solvent. It typically appears as a single-phase liquid with uniform composition and properties throughout.', 'response': 'Why are chemists great for solving problems? They have all the solutions. (Image: Image of Walter white and Jessy Pinkman cooking meth in lab coats in their minivan from the film Breaking Bad)'}\n",
            "{'instruction': 'Create meme captions and provide a suitable contextual meme description for the given content.', 'content': 'Blood cells are the essential components of our circulatory system, responsible for carrying oxygen, nutrients, and waste products throughout our bodies. Veins are the blood vessels that play a vital role in this process. These thin-walled, flexible tubes serve as conduits for the flow of blood, and within them, blood cells travel as part of their journey. Veins typically carry deoxygenated blood from various parts of the body back to the heart, where it can be reoxygenated and sent back into circulation. So, blood cells do indeed flow through veins, ensuring that our bodies receive the necessary oxygen and nutrients while removing metabolic waste products.', 'response': 'Two blood cells met and fell in love. Alas, it was all in vein. (Image: Boy and girl break up scene)'}\n",
            "{'instruction': 'Create meme captions and provide a suitable contextual meme description for the given content.', 'content': \"Tectonic plates are massive, rigid slabs of the Earth's lithosphere that make up the outermost shell of our planet. These plates are like puzzle pieces that fit together, covering the Earth's surface. Tectonic plates can range in size from a few kilometers to thousands of kilometers across. They constantly move, albeit slowly, driven by the heat and convection currents from within the Earth. These movements give rise to a variety of geological phenomena, including earthquakes, volcanic eruptions, the formation of mountains, and the creation of ocean basins.The boundaries where these plates meet are of particular interest to geologists, as they are the sites where the Earth's crust experiences stress, leading to the formation of faults, earthquakes, and the shifting of land masses. Tectonic plate interactions are fundamental to our understanding of Earth's geological processes and have a profound impact on our planet's surface features and geological history. In geology, a 'fault' refers to a fracture or crack in the Earth's crust where tectonic plates meet.\", 'response': \"What did one tectonic plate say when it bumped into another? Sorry, my fault! (Image: Boy bumped into girl, and the girl's coffee spilled onto her dress.)\"}\n",
            "{'instruction': 'Create meme captions and provide a suitable contextual meme description for the given content.', 'content': \"Atoms consist of three main subatomic particles: protons, neutrons, and electrons. Protons are positively charged, neutrons are neutral, and electrons are negatively charged. The balance of these particles determines the overall charge of an atom.\\n\\nWhen an atom loses an electron, it loses a negatively charged particle, creating an imbalance in the atom's charge. Since there are now more positively charged protons than negatively charged electrons, the atom becomes positively charged overall. This process is known as ionization, and the resulting positively charged atom is called a cation.\", 'response': 'I lost an electron! (Image: Lennard from Big Bang Theory with a sad face)\\nAre you positive? (Image: Sheldon Cooper with a curious face from Big Bang Theory)'}\n",
            "{'instruction': 'Create meme captions and provide a suitable contextual meme description for the given content.', 'content': 'Thermometer: A thermometer is an instrument used to measure temperature. It contains a liquid that expands or contracts with temperature changes, providing a numerical temperature reading.\\nGraduated Cylinder: A graduated cylinder is a cylindrical container with volume markings used to accurately measure the volume of liquids in scientific experiments.', 'response': \"You may have graduated, but I have more degrees. (Image: Image of a confident and smirking thermometer with multiple temperature degree markings, as if it's boasting about having more 'degrees' than a graduated cylinder.)\"}\n",
            "{'instruction': 'Create meme captions and provide a suitable contextual meme description for the given content.', 'content': 'Friction is a force that opposes the relative motion or tendency of motion between two surfaces in contact. It occurs when two objects rub against each other, creating resistance that hinders their movement. Friction is a fundamental concept in physics and has various practical implications in everyday life, influencing the motion of vehicles, the grip of shoes on surfaces, and much more. It can be classified into static friction (resisting the initiation of motion) and kinetic friction (resisting the motion of already moving objects). Friction plays a crucial role in enabling us to walk, drive, and manipulate objects, while also causing wear and tear on surfaces over time.', 'response': \"Which type of books are the hardest to get through? Friction books. (Image: Image of a book with the title 'Friction.')\"}\n",
            "{'instruction': 'Create meme captions and provide a suitable contextual meme description for the given content.', 'content': 'Light travels at an extremely fast speed of about 299,792 kilometers per second in a vacuum, while sound travels much slower at around 343 meters per second in dry air at room temperature. Light can travel through a vacuum, whereas sound requires a medium to propagate, like air or water. These differences in velocity play a significant role in how we perceive and use light and sound in various applications.', 'response': \"Since light travels faster than sound, people may appear bright until you hear them speak. (Image:A light bulb next to a person speaking with speech bubbles containing words like 'uh-oh' or 'oops')\"}\n",
            "{'instruction': 'Create meme captions and provide a suitable contextual meme description for the given content.', 'content': \"Limestone is a sedimentary rock rich in calcium carbonate. It's often used in construction and can be white, gray, or tan in color. Granite is an igneous rock composed of quartz, feldspar, and mica. It's known for its durability and is frequently used for countertops and monuments.\", 'response': \"What did the limestone say to the geologist? (Image: a random person's tweet)\\nDon’t take me for granite! (Image: Pakalu Papito's reply tweet)\"}\n",
            "{'instruction': 'Create meme captions and provide a suitable contextual meme description for the given content.', 'content': 'A tornado is a rapidly rotating column of air that extends from a thunderstorm to the ground, typically ranging from a few hundred meters to a few kilometers in width. It is known for its destructive force and ability to cause significant damage.', 'response': 'What is a tornado’s favorite game to play? Twister! (Image: Image of a tornado person appearing in a game of Twister during a party, where everybody else is fearing and running when they see the tornado coming.)'}\n",
            "{'instruction': 'Create meme captions and provide a suitable contextual meme description for the given content.', 'content': 'Biodegradation is a natural process where organic materials, such as food waste or plant matter, are broken down by microorganisms like bacteria, fungi, and enzymes into simpler substances like water, carbon dioxide, and biomass. This process is environmentally beneficial as it helps recycle organic matter back into the ecosystem and reduces waste accumulation, contributing to sustainability and nutrient cycling in nature. Biodegradation is widely used in waste management, composting, and bioremediation to manage and clean up pollutants in the environment.', 'response': 'What do you call it when your science teacher lowers your grade? Bio-degraded. (Image: Image of the main characters of Big Bang Theory playing a quiz, symbolizing the humorous connection between science and biodegradation.)'}\n",
            "{'instruction': 'Create meme captions and provide a suitable contextual meme description for the given content.', 'content': 'A cell is the basic structural and functional unit of life. It is the smallest independently functioning unit in the living organisms, from single-celled microorganisms to complex multicellular organisms like humans. Cells come in various types, but they all share common features, including a cell membrane that encloses the cell, genetic material (DNA or RNA), and the machinery needed to carry out essential life processes. Cells perform vital functions, such as metabolism, growth, reproduction, and response to stimuli, and they are the building blocks of tissues and organs in multicellular organisms. The study of cells, known as cell biology, is fundamental to understanding the biology of living organisms.', 'response': 'What do you call a biologist’s self-portrait? A cell-fie. (Image: a cell taking a selfie.)'}\n",
            "{'instruction': 'Create meme captions and provide a suitable contextual meme description for the given content.', 'content': \"Petrification is a geological process in which organic materials, such as wood or bone, undergo mineralization and transform into stone-like structures over an extended time. This process typically occurs when the organic material becomes buried in sediment or exposed to mineral-rich water. Over time, minerals in the surrounding environment replace the organic matter's original components, resulting in a fossilized or stone-like appearance. Petrification is a crucial mechanism for the preservation of ancient organisms and can provide valuable insights into Earth's geological history and the evolution of life on our planet.\", 'response': \"Why don’t geologists like scary movies? (Image: A random person's tweet)\\nBecause they’re petrified. (Image: Pakalu Papito's reply tweet)\"}\n",
            "{'instruction': 'Create meme captions and provide a suitable contextual meme description for the given content.', 'content': \"Pythagoras' theorem states that in a right-angled triangle, the square of the length of the hypotenuse (the side opposite the right angle) is equal to the sum of the squares of the lengths of the other two sides.\", 'response': \"When you finally understand Pythagoras' theorem, it's like a lightbulb moment! (Image: A lightbulb turning on above someone's head.)\"}\n",
            "{'instruction': 'Create meme captions and provide a suitable contextual meme description for the given content.', 'content': 'The Cold War was a period of geopolitical tension and rivalry between the Soviet Union and the United States and their respective allies from the mid-20th century until the early 1990s.', 'response': \"The Cold War: When you're mad at each other but don't want to admit it. (Image: Two superpowers giving each other the silent treatment.)\"}\n",
            "{'instruction': 'Create meme captions and provide a suitable contextual meme description for the given content.', 'content': \"Newton's third law of motion states that for every action, there is an equal and opposite reaction.\", 'response': \"When you push a wall and it pushes back: Newton's way of saying, 'Don't start a fight you can't finish!' (Image: A person pushing a wall with the wall pushing back.)\"}\n",
            "{'instruction': 'Create meme captions and provide a suitable contextual meme description for the given content.', 'content': 'Chemical reactions involve the breaking and forming of chemical bonds between atoms or molecules, resulting in the transformation of substances into new ones with different properties.', 'response': \"Chemical reactions: When atoms decide it's time for a makeover. (Image: Atoms with sunglasses and makeover accessories.)\"}\n",
            "{'instruction': 'Create meme captions and provide a suitable contextual meme description for the given content.', 'content': 'Photosynthesis is the process by which plants, algae, and some bacteria convert sunlight into chemical energy in the form of glucose and oxygen.', 'response': 'Photosynthesis: Where plants turn sunshine into snacks! (Image: A happy plant basking in sunlight and munching on glucose.)'}\n",
            "{'instruction': 'Create meme captions and provide a suitable contextual meme description for the given content.', 'content': \"William Shakespeare is often regarded as one of the greatest playwrights and poets in the English language, known for works like 'Romeo and Juliet' and 'Hamlet.'\", 'response': \"Shakespeare: When you're dead for centuries, but people still quote you daily. (Image: A ghostly Shakespeare reciting famous lines.)\"}\n",
            "{'instruction': 'Create meme captions and provide a suitable contextual meme description for the given content.', 'content': 'The Fibonacci sequence is a series of numbers where each number is the sum of the two preceding ones, usually starting with 0 and 1.', 'response': 'Fibonacci sequence: Where numbers go on a never-ending addition spree! (Image: Numbers dancing and adding up.)'}\n",
            "{'instruction': 'Create meme captions and provide a suitable contextual meme description for the given content.', 'content': 'The Great Wall of China is a historical fortification that stretches across northern China. It was built to protect against invasions and is one of the most famous landmarks in the world.', 'response': \"The Great Wall of China: When you build a wall so big, it's visible from space! (Image: Astronauts looking at Earth with a giant wall on the surface.)\"}\n",
            "{'instruction': 'Create meme captions and provide a suitable contextual meme description for the given content.', 'content': \"Einstein's theory of relativity revolutionized our understanding of space, time, and gravity, with equations like E=mc².\", 'response': \"Einstein's theory of relativity: When your equations become more famous than you. (Image: Einstein looking at his equations on a red carpet.)\"}\n",
            "{'instruction': 'Create meme captions and provide a suitable contextual meme description for the given content.', 'content': 'The periodic table is a tabular arrangement of chemical elements, organized by their atomic number, electron configuration, and recurring chemical properties.', 'response': 'The periodic table: Where elements come together for a never-ending family reunion! (Image: Elements in a family portrait.)'}\n",
            "{'instruction': 'Create meme captions and provide a suitable contextual meme description for the given content.', 'content': 'A computer virus is a malicious software program designed to infect and damage computers. It can spread from one computer to another, causing a range of issues from data loss to system crashes.', 'response': \"When your computer catches a virus, and it's not a sneeze! (Image: A computer screen sneezing with a virus symbol flying out.)\"}\n",
            "{'instruction': 'Create meme captions and provide a suitable contextual meme description for the given content.', 'content': 'The Amazon Rainforest is the world\\'s largest tropical rainforest, known for its incredible biodiversity. It plays a crucial role in regulating the Earth\\'s climate and is often referred to as the \"Lungs of the Earth\" because of its ability to produce oxygen and absorb carbon dioxide.', 'response': 'The Amazon Rainforest: Where trees are the real lungs of the Earth! (Image: A forest of trees wearing stethoscopes and oxygen masks.)'}\n",
            "{'instruction': 'Create meme captions and provide a suitable contextual meme description for the given content.', 'content': 'The Industrial Revolution was a period of rapid industrialization and technological advancement that began in the late 18th century. It transformed societies by introducing new manufacturing processes, inventions, and the rise of factories.', 'response': 'The Industrial Revolution: When factories started their own revolution! (Image: A factory leading a protest with other machines.)'}\n",
            "{'instruction': 'Create meme captions and provide a suitable contextual meme description for the given content.', 'content': 'Leonardo da Vinci\\'s \"Mona Lisa\" is one of the most famous paintings in the world. It is known for its mysterious smile and the intricate details in the artwork.', 'response': 'The \"Mona Lisa\": When your smile is still a mystery after centuries! (Image: The Mona Lisa with a puzzled expression.)'}\n",
            "{'instruction': 'Create meme captions and provide a suitable contextual meme description for the given content.', 'content': 'Beethoven\\'s Symphony No. 9, also known as the \"Choral Symphony,\" is celebrated for its final movement, which includes the \"Ode to Joy.\" Its considered one of the greatest compositions in classical music', 'response': \"Beethoven's Symphony No. 9: When music brings tears of joy! (Image: A conductor and orchestra performing with tears of joy.)\"}\n",
            "{'instruction': 'Create meme captions and provide a suitable contextual meme description for the given content.', 'content': 'Cognitive dissonance is a psychological theory that describes the discomfort people feel when holding conflicting beliefs or attitudes. It can lead to changes in behavior or beliefs to reduce the discomfort.', 'response': 'Cognitive dissonance: When your brain tries to play tug-of-war with itself! (Image: Two brain halves pulling in opposite directions.)'}\n",
            "{'instruction': 'Create meme captions and provide a suitable contextual meme description for the given content.', 'content': 'Supply and demand are fundamental economic concepts. They describe the relationship between the availability of a product (supply) and the desire for that product (demand), which determines its price.', 'response': 'Supply and demand: Where price is the referee in a tug-of-war! (Image: Price tag mediating between supply and demand.)'}\n",
            "{'instruction': 'Create meme captions and provide a suitable contextual meme description for the given content.', 'content': 'Charles Dickens\\' \"A Tale of Two Cities\" begins with the famous line, \"It was the best of times, it was the worst of times.\" The novel explores the contrasting experiences of characters in London and Paris during the French Revolution.', 'response': 'A Tale of Two Cities: When the opening line says it all! (Image: A cityscape with \"best\" and \"worst\" sides.)'}\n",
            "{'instruction': 'Create meme captions and provide a suitable contextual meme description for the given content.', 'content': 'Climate change refers to long-term shifts in global weather patterns and temperatures. Its a pressing issue with far-reaching environmental and societal impacts.', 'response': 'Climate change: When Mother Nature turns up the heat! (Image: Earth sweating from rising temperatures.)'}\n",
            "{'instruction': 'Create meme captions and provide a suitable contextual meme description for the given content.', 'content': 'Astronomers use telescopes to observe and study celestial objects in the night sky. Telescopes come in various types, including optical, radio, and space telescopes, each designed for specific purposes.', 'response': 'Telescopes: Helping us stargaze without neck pain! (Image: A person comfortably stargazing through a telescope.)'}\n",
            "{'instruction': 'Create meme captions and provide a suitable contextual meme description for the given content.', 'content': 'Pi (π) is an irrational number with infinite decimal places.', 'response': \"Trying to calculate Pi to the last digit: It's a never-ending story! (Image: A mathematician on a never-ending road)\"}\n",
            "{'instruction': 'Create meme captions and provide a suitable contextual meme description for the given content.', 'content': 'The Law of Conservation of Energy states that energy cannot be created or destroyed, only transformed from one form to another.', 'response': \"When energy transforms from 'Potential' to 'Kinetic': The superhero origin story! (Image: Energy symbol transforming between forms.)\"}\n",
            "{'instruction': 'Create meme captions and provide a suitable contextual meme description for the given content.', 'content': 'Hydrogen Peroxide (H2O2) is a common household disinfectant.', 'response': 'Hydrogen Peroxide: When cleaning turns explosive! (Image: A cleaning superhero with a hydrogen peroxide spray bottle.)'}\n",
            "{'instruction': 'Create meme captions and provide a suitable contextual meme description for the given content.', 'content': 'Artificial Intelligence (AI) is a field of computer science focused on creating machines that can simulate human intelligence.', 'response': 'Artificial Intelligence: When computers try to be the cool kids on the block! (Image: A robot wearing sunglasses and a leather jacket.)'}\n",
            "{'instruction': 'Create meme captions and provide a suitable contextual meme description for the given content.', 'content': 'Psychology is the study of the mind and behavior.', 'response': 'Psychology: Where we try to figure out why we do the things we do! (Image: A person with thought bubbles.)'}\n",
            "{'instruction': 'Create meme captions and provide a suitable contextual meme description for the given content.', 'content': 'Metaphors are literary devices that make comparisons between two unrelated things.', 'response': 'Metaphors: When words get playful and adventurous! (Image: Words flying on a magic carpet.)'}\n",
            "{'instruction': 'Create meme captions and provide a suitable contextual meme description for the given content.', 'content': 'The Krebs Cycle is a series of chemical reactions in cellular respiration that produces energy in the form of ATP.', 'response': \"Krebs Cycle: Where the cell's power plant keeps the lights on! (Image: A cell with a power plant inside.)\"}\n",
            "{'instruction': 'Create meme captions and provide a suitable contextual meme description for the given content.', 'content': 'An atom is the fundamental unit of matter, and everything around us, including ourselves, is composed of atoms. Atoms consist of three main subatomic particles: protons, neutrons, and electrons. Protons are positively charged, neutrons are neutral, and electrons are negatively charged. The balance of these particles determines the overall charge of an atom. These tiny building blocks combine to form the diverse array of elements and compounds that make up the material world, from the air we breathe to the stars in the sky. Understanding the structure and behavior of atoms is essential to comprehending the properties and interactions of matter in the universe.', 'response': 'Why can you never trust atoms? (Image: Image of Michael Scott from The Office series with a serious face)\\nThey make up everything. (Image: Image of Michael Scott from The Office series with a laugh-exploding face)'}\n",
            "{'instruction': 'Create meme captions and provide a suitable contextual meme description for the given content.', 'content': 'Sulfur is a chemical element found in nature and commonly used in various industrial processes. It is known for its distinctive odor, often described as smelling like rotten eggs due to the presence of hydrogen sulfide gas, which is released when sulfur compounds break down. This smell is quite pungent and recognizable, making it a characteristic feature of sulfur. In addition to its odor, sulfur has many important applications, such as in the production of sulfuric acid, fertilizers, and various chemical compounds, making it a valuable element in industry and agriculture. Sulfur is also an essential element for living organisms, as it is a component of amino acids and vitamins, playing a crucial role in various biological processes.', 'response': 'What did the scientist say to the chemist whose lab smelled like eggs? Sorry for your suffering. (Image: Sheldon Cooper from Big Bang Theory in a chemical lab.)'}\n",
            "{'instruction': 'Create meme captions and provide a suitable contextual meme description for the given content.', 'content': 'Quarks are elementary particles that are the fundamental building blocks of matter in the Standard Model of particle physics. They are the smallest known particles and come in six different flavors: up, down, charm, strange, top, and bottom. Quarks combine to form protons, neutrons, and other hadrons, and they are never found in isolation due to a phenomenon called confinement. Quarks play a crucial role in understanding the strong nuclear force and the structure of matter at the subatomic level.', 'response': \"What sound does a subatomic duck make? Quark! (Image: Image of a duck made up of quarks, humorously connecting quarks and the sound 'quack.')\"}\n",
            "{'instruction': 'Create meme captions and provide a suitable contextual meme description for the given content.', 'content': 'A black hole is a region in space where the gravitational pull is so strong that nothing, not even light, can escape from it. This phenomenon occurs when a massive star collapses under its own gravity, creating a singularity at its core, surrounded by an event horizon. The event horizon is the boundary beyond which nothing can return, making black holes appear completely black and invisible to the naked eye. Black holes are fascinating and mysterious objects that challenge our understanding of the laws of physics and have profound effects on the surrounding space-time.', 'response': \"Why is the dieting advice to 'eat light' so dangerous? That’s how you become a black hole. (Image:  movie 'Interstellar' where the characters are near a massive black hole, conveying the idea of being consumed by its gravitational pull.)\"}\n",
            "{'instruction': 'Create meme captions and provide a suitable contextual meme description for the given content.', 'content': '\"Ferrous\" refers to compounds or substances that contain iron. Iron atoms are chemically described as \"ferrous\" when they are in their ionic form with a +2 oxidation state.', 'response': \"What do you call a bunch of iron atoms at a carnival? A ferrous wheel. (Image: Famous ferris wheel scene from the movie 'The Third Man' (1949), where the characters Harry Lime and Holly Martins have a tense conversation on a ferris wheel in Vienna.)\"}\n",
            "{'instruction': 'Create meme captions and provide a suitable contextual meme description for the given content.', 'content': 'A tangent is a straight line or line segment that touches a curve or circle at a single point without crossing through it. This point of contact is known as the point of tangency. Tangents are commonly used in geometry and calculus to study the relationship between curves and straight lines, and they help determine the slope or rate of change of a function at a specific point on a curve.', 'response': 'What do you call a man who spent all summer at the beach? A tangent. (A tan gent.) (Image: The handsome body of Mitch Buchannon character from Baywatch.)'}\n",
            "{'instruction': 'Create meme captions and provide a suitable contextual meme description for the given content.', 'content': \"In statistics, the term 'mean' refers to the average value of a set of numbers. It is calculated by adding up all the values in a dataset and dividing the sum by the total number of values. The mean provides a measure of central tendency and is often used to describe the typical or average value within a data set.\", 'response': \"Why did the student get upset when his teacher called him average? It was a mean thing to say! (Image: Film: 'Ferris Bueller's Day Off', Scene: The scene where the teacher, Mr. Rooney, is frustrated with Ferris Bueller's apparent truancy and makes a remark that upsets Ferris.)\"}\n"
          ]
        }
      ],
      "source": [
        "# Load the dataset from the JSONL file\n",
        "loaded_data = []\n",
        "with open(file_path, 'r') as f:\n",
        "    for line in f:\n",
        "        loaded_data.append(json.loads(line))\n",
        "\n",
        "# Print the loaded data\n",
        "for entry in loaded_data:\n",
        "    print(entry)\n"
      ]
    },
    {
      "cell_type": "code",
      "execution_count": null,
      "metadata": {
        "id": "cXJz_wLLOQEc"
      },
      "outputs": [],
      "source": [
        "# Specify the path to the new file where you want to save the data\n",
        "new_file_path = '/content/drive/My Drive/meme.me/saved_meme_captions.jsonl'\n",
        "\n",
        "# Save the loaded data back to a new JSONL file\n",
        "with open(new_file_path, 'w') as f:\n",
        "    for entry in loaded_data:\n",
        "        json.dump(entry, f)\n",
        "        f.write('\\n')\n",
        "\n",
        "print(\"Data saved to\", new_file_path)\n"
      ]
    },
    {
      "cell_type": "code",
      "execution_count": null,
      "metadata": {
        "colab": {
          "base_uri": "https://localhost:8080/"
        },
        "id": "QxWEEeoMLLZR",
        "outputId": "1cdc5028-92c6-4c90-ff2f-090dab7a124e"
      },
      "outputs": [
        {
          "name": "stdout",
          "output_type": "stream",
          "text": [
            "Number of rows in the JSONL file: 60\n"
          ]
        }
      ],
      "source": [
        "file_path = '/content/drive/My Drive/meme.me/meme_captions.jsonl'  # Replace with your file path\n",
        "\n",
        "# Counting the number of rows in the JSONL file\n",
        "row_count = 0\n",
        "with open(file_path, 'r', encoding='utf-8') as file:\n",
        "    for line in file:\n",
        "        row_count += 1\n",
        "\n",
        "print(\"Number of rows in the JSONL file:\", row_count)\n"
      ]
    },
    {
      "cell_type": "code",
      "execution_count": null,
      "metadata": {
        "id": "92eKw7V6vWxj"
      },
      "outputs": [],
      "source": [
        "\"\"\"# Read the JSONL file and store its contents in a list\n",
        "with open('/content/drive/My Drive/meme.me/meme_captions.jsonl', 'r') as file:\n",
        "    lines = file.readlines()\"\"\"\n"
      ]
    },
    {
      "cell_type": "code",
      "execution_count": null,
      "metadata": {
        "id": "p2YpQsPivjjt"
      },
      "outputs": [],
      "source": [
        "\"\"\"# Create a set to store unique rows\n",
        "unique_lines = set()\n",
        "\n",
        "# Create a new list to store non-duplicate rows\n",
        "filtered_lines = []\n",
        "\n",
        "# Iterate through the lines and add unique lines to the filtered_lines list\n",
        "for line in lines:\n",
        "    if line not in unique_lines:\n",
        "        unique_lines.add(line)\n",
        "        filtered_lines.append(line)\"\"\"\n"
      ]
    },
    {
      "cell_type": "code",
      "execution_count": null,
      "metadata": {
        "id": "HSda0A6Yvn18"
      },
      "outputs": [],
      "source": [
        "\"\"\"# Write the non-duplicate lines back to the JSONL file\n",
        "with open('/content/drive/My Drive/meme.me/meme_captions.jsonl', 'w') as file:\n",
        "    file.writelines(filtered_lines)\"\"\"\n"
      ]
    },
    {
      "cell_type": "code",
      "execution_count": null,
      "metadata": {
        "colab": {
          "base_uri": "https://localhost:8080/",
          "height": 148,
          "referenced_widgets": [
            "778f95c2f5094d3a8b936c283fd3b8bb",
            "d6292a2856b74e8bb5481bc378f0adbf",
            "d3d6cf73b6174855acfdf864a6888c86",
            "eb27062877684a6689d990003bdc4ab8",
            "833a43985d8b4b978d654de2f5cb4da8",
            "b792c8fa69814c98a3d4433faeec8c4c",
            "130d38945ef341ccb5d45d3738a9017f",
            "992b6286bffd40be9955b16a7dabe7aa",
            "bc2fc8d66d39413f8496683817ddc744",
            "a9a745a92ee6447c9f0bdb52d342fd48",
            "9f78e7e5f7e444658435c19d33614250",
            "08e486b485044b6f8f6e7b6ab7aadf99",
            "199c40e9f9624baebbb65b39dc270949",
            "970cfc4baafc430282a0c685e6d4248b",
            "5790360373204f728560238f3808a999",
            "11b762fe77bf4d7a9a74a9e109103dfc",
            "4023243d5191484d8755d944131b7cfa",
            "d2ec83dcb6674233946229144393e89f",
            "5bb39ecfe40747009227ee7765aea87a",
            "12fd85479fc1497f8ba1caaf144b9169",
            "57c7f8fc5cbe4d968d8f7535cdc83c8b",
            "9a88252a910540ea9feca8870102a3f1",
            "ac30dd5cbcf44f1a9e2108b28d760c49",
            "83d9073e568c43978a5bb9cd3f62c617",
            "627af13ba5c14ef19fba8d6ad080ff29",
            "c0b9904069ec40959dac459deb201f14",
            "20c1cea9ab67457f9b5f1327af4baf70",
            "8be4e576c7e04c208a3516302deffb3b",
            "fa76f9a1397e417fb2dc3300cead5f7e",
            "8557c24d9fca4de790eff9cf23fceae3",
            "dc501a6f902a46ec91c40af40b814561",
            "b8ba8a212b8a43b495f7708aa12ec909",
            "9c0d85f448b246b799b2a6e866297f3f"
          ]
        },
        "id": "TIjunFV3Q3Me",
        "outputId": "c3f67657-9a9c-4407-94e3-6937fca293d2"
      },
      "outputs": [
        {
          "data": {
            "application/vnd.jupyter.widget-view+json": {
              "model_id": "778f95c2f5094d3a8b936c283fd3b8bb",
              "version_major": 2,
              "version_minor": 0
            },
            "text/plain": [
              "Uploading the dataset shards:   0%|          | 0/1 [00:00<?, ?it/s]"
            ]
          },
          "metadata": {},
          "output_type": "display_data"
        },
        {
          "data": {
            "application/vnd.jupyter.widget-view+json": {
              "model_id": "08e486b485044b6f8f6e7b6ab7aadf99",
              "version_major": 2,
              "version_minor": 0
            },
            "text/plain": [
              "Creating parquet from Arrow format:   0%|          | 0/1 [00:00<?, ?ba/s]"
            ]
          },
          "metadata": {},
          "output_type": "display_data"
        },
        {
          "data": {
            "application/vnd.jupyter.widget-view+json": {
              "model_id": "ac30dd5cbcf44f1a9e2108b28d760c49",
              "version_major": 2,
              "version_minor": 0
            },
            "text/plain": [
              "README.md:   0%|          | 0.00/28.0 [00:00<?, ?B/s]"
            ]
          },
          "metadata": {},
          "output_type": "display_data"
        },
        {
          "data": {
            "application/vnd.google.colaboratory.intrinsic+json": {
              "type": "string"
            },
            "text/plain": [
              "CommitInfo(commit_url='https://huggingface.co/datasets/bibinsee/test/commit/18b97a37456e04b0195309ab9a99e54b3cdbaae4', commit_message='Upload dataset', commit_description='', oid='18b97a37456e04b0195309ab9a99e54b3cdbaae4', pr_url=None, pr_revision=None, pr_num=None)"
            ]
          },
          "execution_count": 71,
          "metadata": {},
          "output_type": "execute_result"
        }
      ],
      "source": [
        "# Load the dataset without specifying a split\n",
        "dataset = load_dataset(\"json\", data_files=file_path)\n",
        "dataset.push_to_hub(\"bibinsee/meme.me\")"
      ]
    }
  ],
  "metadata": {
    "colab": {
      "gpuType": "T4",
      "machine_shape": "hm",
      "provenance": []
    },
    "kernelspec": {
      "display_name": "Python 3",
      "name": "python3"
    },
    "language_info": {
      "name": "python"
    },
    "widgets": {
      "application/vnd.jupyter.widget-state+json": {
        "00c093b49fa14cd1b2043f39129dd8f6": {
          "model_module": "@jupyter-widgets/controls",
          "model_module_version": "1.5.0",
          "model_name": "HBoxModel",
          "state": {
            "_dom_classes": [],
            "_model_module": "@jupyter-widgets/controls",
            "_model_module_version": "1.5.0",
            "_model_name": "HBoxModel",
            "_view_count": null,
            "_view_module": "@jupyter-widgets/controls",
            "_view_module_version": "1.5.0",
            "_view_name": "HBoxView",
            "box_style": "",
            "children": [
              "IPY_MODEL_c7759b0426f04be6834e3f640f72fdc8",
              "IPY_MODEL_c54ef66994e64fa78386b22a27519385",
              "IPY_MODEL_bf7bb495e31d49edb0aad4ee01e6ff59"
            ],
            "layout": "IPY_MODEL_fbed04abe3ba4d17b82c095a640aa9f5"
          }
        },
        "04ea0558cf1e489da50c0c8c5e8d2515": {
          "model_module": "@jupyter-widgets/controls",
          "model_module_version": "1.5.0",
          "model_name": "HBoxModel",
          "state": {
            "_dom_classes": [],
            "_model_module": "@jupyter-widgets/controls",
            "_model_module_version": "1.5.0",
            "_model_name": "HBoxModel",
            "_view_count": null,
            "_view_module": "@jupyter-widgets/controls",
            "_view_module_version": "1.5.0",
            "_view_name": "HBoxView",
            "box_style": "",
            "children": [
              "IPY_MODEL_f64efbcf46d642ea930b1844c9f1591a",
              "IPY_MODEL_7849355ef7374caeb978a2fde46f88f1",
              "IPY_MODEL_af1925fc29e147569a2e6bd2b6658050"
            ],
            "layout": "IPY_MODEL_d5a02bfd9594435e90da6715a7bd3416"
          }
        },
        "08e486b485044b6f8f6e7b6ab7aadf99": {
          "model_module": "@jupyter-widgets/controls",
          "model_module_version": "1.5.0",
          "model_name": "HBoxModel",
          "state": {
            "_dom_classes": [],
            "_model_module": "@jupyter-widgets/controls",
            "_model_module_version": "1.5.0",
            "_model_name": "HBoxModel",
            "_view_count": null,
            "_view_module": "@jupyter-widgets/controls",
            "_view_module_version": "1.5.0",
            "_view_name": "HBoxView",
            "box_style": "",
            "children": [
              "IPY_MODEL_199c40e9f9624baebbb65b39dc270949",
              "IPY_MODEL_970cfc4baafc430282a0c685e6d4248b",
              "IPY_MODEL_5790360373204f728560238f3808a999"
            ],
            "layout": "IPY_MODEL_11b762fe77bf4d7a9a74a9e109103dfc"
          }
        },
        "0b41c3ba86e6476a8e30929c59bdf598": {
          "model_module": "@jupyter-widgets/base",
          "model_module_version": "1.2.0",
          "model_name": "LayoutModel",
          "state": {
            "_model_module": "@jupyter-widgets/base",
            "_model_module_version": "1.2.0",
            "_model_name": "LayoutModel",
            "_view_count": null,
            "_view_module": "@jupyter-widgets/base",
            "_view_module_version": "1.2.0",
            "_view_name": "LayoutView",
            "align_content": null,
            "align_items": null,
            "align_self": null,
            "border": null,
            "bottom": null,
            "display": null,
            "flex": null,
            "flex_flow": null,
            "grid_area": null,
            "grid_auto_columns": null,
            "grid_auto_flow": null,
            "grid_auto_rows": null,
            "grid_column": null,
            "grid_gap": null,
            "grid_row": null,
            "grid_template_areas": null,
            "grid_template_columns": null,
            "grid_template_rows": null,
            "height": null,
            "justify_content": null,
            "justify_items": null,
            "left": null,
            "margin": null,
            "max_height": null,
            "max_width": null,
            "min_height": null,
            "min_width": null,
            "object_fit": null,
            "object_position": null,
            "order": null,
            "overflow": null,
            "overflow_x": null,
            "overflow_y": null,
            "padding": null,
            "right": null,
            "top": null,
            "visibility": null,
            "width": null
          }
        },
        "11b762fe77bf4d7a9a74a9e109103dfc": {
          "model_module": "@jupyter-widgets/base",
          "model_module_version": "1.2.0",
          "model_name": "LayoutModel",
          "state": {
            "_model_module": "@jupyter-widgets/base",
            "_model_module_version": "1.2.0",
            "_model_name": "LayoutModel",
            "_view_count": null,
            "_view_module": "@jupyter-widgets/base",
            "_view_module_version": "1.2.0",
            "_view_name": "LayoutView",
            "align_content": null,
            "align_items": null,
            "align_self": null,
            "border": null,
            "bottom": null,
            "display": null,
            "flex": null,
            "flex_flow": null,
            "grid_area": null,
            "grid_auto_columns": null,
            "grid_auto_flow": null,
            "grid_auto_rows": null,
            "grid_column": null,
            "grid_gap": null,
            "grid_row": null,
            "grid_template_areas": null,
            "grid_template_columns": null,
            "grid_template_rows": null,
            "height": null,
            "justify_content": null,
            "justify_items": null,
            "left": null,
            "margin": null,
            "max_height": null,
            "max_width": null,
            "min_height": null,
            "min_width": null,
            "object_fit": null,
            "object_position": null,
            "order": null,
            "overflow": null,
            "overflow_x": null,
            "overflow_y": null,
            "padding": null,
            "right": null,
            "top": null,
            "visibility": null,
            "width": null
          }
        },
        "12fd85479fc1497f8ba1caaf144b9169": {
          "model_module": "@jupyter-widgets/controls",
          "model_module_version": "1.5.0",
          "model_name": "ProgressStyleModel",
          "state": {
            "_model_module": "@jupyter-widgets/controls",
            "_model_module_version": "1.5.0",
            "_model_name": "ProgressStyleModel",
            "_view_count": null,
            "_view_module": "@jupyter-widgets/base",
            "_view_module_version": "1.2.0",
            "_view_name": "StyleView",
            "bar_color": null,
            "description_width": ""
          }
        },
        "130d38945ef341ccb5d45d3738a9017f": {
          "model_module": "@jupyter-widgets/controls",
          "model_module_version": "1.5.0",
          "model_name": "DescriptionStyleModel",
          "state": {
            "_model_module": "@jupyter-widgets/controls",
            "_model_module_version": "1.5.0",
            "_model_name": "DescriptionStyleModel",
            "_view_count": null,
            "_view_module": "@jupyter-widgets/base",
            "_view_module_version": "1.2.0",
            "_view_name": "StyleView",
            "description_width": ""
          }
        },
        "185aaab55a7e4bd1b365a5fc91aec680": {
          "model_module": "@jupyter-widgets/controls",
          "model_module_version": "1.5.0",
          "model_name": "DescriptionStyleModel",
          "state": {
            "_model_module": "@jupyter-widgets/controls",
            "_model_module_version": "1.5.0",
            "_model_name": "DescriptionStyleModel",
            "_view_count": null,
            "_view_module": "@jupyter-widgets/base",
            "_view_module_version": "1.2.0",
            "_view_name": "StyleView",
            "description_width": ""
          }
        },
        "199c40e9f9624baebbb65b39dc270949": {
          "model_module": "@jupyter-widgets/controls",
          "model_module_version": "1.5.0",
          "model_name": "HTMLModel",
          "state": {
            "_dom_classes": [],
            "_model_module": "@jupyter-widgets/controls",
            "_model_module_version": "1.5.0",
            "_model_name": "HTMLModel",
            "_view_count": null,
            "_view_module": "@jupyter-widgets/controls",
            "_view_module_version": "1.5.0",
            "_view_name": "HTMLView",
            "description": "",
            "description_tooltip": null,
            "layout": "IPY_MODEL_4023243d5191484d8755d944131b7cfa",
            "placeholder": "​",
            "style": "IPY_MODEL_d2ec83dcb6674233946229144393e89f",
            "value": "Creating parquet from Arrow format: 100%"
          }
        },
        "20c1cea9ab67457f9b5f1327af4baf70": {
          "model_module": "@jupyter-widgets/base",
          "model_module_version": "1.2.0",
          "model_name": "LayoutModel",
          "state": {
            "_model_module": "@jupyter-widgets/base",
            "_model_module_version": "1.2.0",
            "_model_name": "LayoutModel",
            "_view_count": null,
            "_view_module": "@jupyter-widgets/base",
            "_view_module_version": "1.2.0",
            "_view_name": "LayoutView",
            "align_content": null,
            "align_items": null,
            "align_self": null,
            "border": null,
            "bottom": null,
            "display": null,
            "flex": null,
            "flex_flow": null,
            "grid_area": null,
            "grid_auto_columns": null,
            "grid_auto_flow": null,
            "grid_auto_rows": null,
            "grid_column": null,
            "grid_gap": null,
            "grid_row": null,
            "grid_template_areas": null,
            "grid_template_columns": null,
            "grid_template_rows": null,
            "height": null,
            "justify_content": null,
            "justify_items": null,
            "left": null,
            "margin": null,
            "max_height": null,
            "max_width": null,
            "min_height": null,
            "min_width": null,
            "object_fit": null,
            "object_position": null,
            "order": null,
            "overflow": null,
            "overflow_x": null,
            "overflow_y": null,
            "padding": null,
            "right": null,
            "top": null,
            "visibility": null,
            "width": null
          }
        },
        "2a8eda658bf943708b8423476a635e93": {
          "model_module": "@jupyter-widgets/base",
          "model_module_version": "1.2.0",
          "model_name": "LayoutModel",
          "state": {
            "_model_module": "@jupyter-widgets/base",
            "_model_module_version": "1.2.0",
            "_model_name": "LayoutModel",
            "_view_count": null,
            "_view_module": "@jupyter-widgets/base",
            "_view_module_version": "1.2.0",
            "_view_name": "LayoutView",
            "align_content": null,
            "align_items": null,
            "align_self": null,
            "border": null,
            "bottom": null,
            "display": null,
            "flex": null,
            "flex_flow": null,
            "grid_area": null,
            "grid_auto_columns": null,
            "grid_auto_flow": null,
            "grid_auto_rows": null,
            "grid_column": null,
            "grid_gap": null,
            "grid_row": null,
            "grid_template_areas": null,
            "grid_template_columns": null,
            "grid_template_rows": null,
            "height": null,
            "justify_content": null,
            "justify_items": null,
            "left": null,
            "margin": null,
            "max_height": null,
            "max_width": null,
            "min_height": null,
            "min_width": null,
            "object_fit": null,
            "object_position": null,
            "order": null,
            "overflow": null,
            "overflow_x": null,
            "overflow_y": null,
            "padding": null,
            "right": null,
            "top": null,
            "visibility": null,
            "width": null
          }
        },
        "2fe3231a42444179a0aa31723b1cc99f": {
          "model_module": "@jupyter-widgets/base",
          "model_module_version": "1.2.0",
          "model_name": "LayoutModel",
          "state": {
            "_model_module": "@jupyter-widgets/base",
            "_model_module_version": "1.2.0",
            "_model_name": "LayoutModel",
            "_view_count": null,
            "_view_module": "@jupyter-widgets/base",
            "_view_module_version": "1.2.0",
            "_view_name": "LayoutView",
            "align_content": null,
            "align_items": null,
            "align_self": null,
            "border": null,
            "bottom": null,
            "display": null,
            "flex": null,
            "flex_flow": null,
            "grid_area": null,
            "grid_auto_columns": null,
            "grid_auto_flow": null,
            "grid_auto_rows": null,
            "grid_column": null,
            "grid_gap": null,
            "grid_row": null,
            "grid_template_areas": null,
            "grid_template_columns": null,
            "grid_template_rows": null,
            "height": null,
            "justify_content": null,
            "justify_items": null,
            "left": null,
            "margin": null,
            "max_height": null,
            "max_width": null,
            "min_height": null,
            "min_width": null,
            "object_fit": null,
            "object_position": null,
            "order": null,
            "overflow": null,
            "overflow_x": null,
            "overflow_y": null,
            "padding": null,
            "right": null,
            "top": null,
            "visibility": null,
            "width": null
          }
        },
        "3770e31eafc54ba5a42a3fa412fadc00": {
          "model_module": "@jupyter-widgets/controls",
          "model_module_version": "1.5.0",
          "model_name": "DescriptionStyleModel",
          "state": {
            "_model_module": "@jupyter-widgets/controls",
            "_model_module_version": "1.5.0",
            "_model_name": "DescriptionStyleModel",
            "_view_count": null,
            "_view_module": "@jupyter-widgets/base",
            "_view_module_version": "1.2.0",
            "_view_name": "StyleView",
            "description_width": ""
          }
        },
        "377e64ab82f449fa9669f2f50bae0b19": {
          "model_module": "@jupyter-widgets/controls",
          "model_module_version": "1.5.0",
          "model_name": "ProgressStyleModel",
          "state": {
            "_model_module": "@jupyter-widgets/controls",
            "_model_module_version": "1.5.0",
            "_model_name": "ProgressStyleModel",
            "_view_count": null,
            "_view_module": "@jupyter-widgets/base",
            "_view_module_version": "1.2.0",
            "_view_name": "StyleView",
            "bar_color": null,
            "description_width": ""
          }
        },
        "4023243d5191484d8755d944131b7cfa": {
          "model_module": "@jupyter-widgets/base",
          "model_module_version": "1.2.0",
          "model_name": "LayoutModel",
          "state": {
            "_model_module": "@jupyter-widgets/base",
            "_model_module_version": "1.2.0",
            "_model_name": "LayoutModel",
            "_view_count": null,
            "_view_module": "@jupyter-widgets/base",
            "_view_module_version": "1.2.0",
            "_view_name": "LayoutView",
            "align_content": null,
            "align_items": null,
            "align_self": null,
            "border": null,
            "bottom": null,
            "display": null,
            "flex": null,
            "flex_flow": null,
            "grid_area": null,
            "grid_auto_columns": null,
            "grid_auto_flow": null,
            "grid_auto_rows": null,
            "grid_column": null,
            "grid_gap": null,
            "grid_row": null,
            "grid_template_areas": null,
            "grid_template_columns": null,
            "grid_template_rows": null,
            "height": null,
            "justify_content": null,
            "justify_items": null,
            "left": null,
            "margin": null,
            "max_height": null,
            "max_width": null,
            "min_height": null,
            "min_width": null,
            "object_fit": null,
            "object_position": null,
            "order": null,
            "overflow": null,
            "overflow_x": null,
            "overflow_y": null,
            "padding": null,
            "right": null,
            "top": null,
            "visibility": null,
            "width": null
          }
        },
        "5790360373204f728560238f3808a999": {
          "model_module": "@jupyter-widgets/controls",
          "model_module_version": "1.5.0",
          "model_name": "HTMLModel",
          "state": {
            "_dom_classes": [],
            "_model_module": "@jupyter-widgets/controls",
            "_model_module_version": "1.5.0",
            "_model_name": "HTMLModel",
            "_view_count": null,
            "_view_module": "@jupyter-widgets/controls",
            "_view_module_version": "1.5.0",
            "_view_name": "HTMLView",
            "description": "",
            "description_tooltip": null,
            "layout": "IPY_MODEL_57c7f8fc5cbe4d968d8f7535cdc83c8b",
            "placeholder": "​",
            "style": "IPY_MODEL_9a88252a910540ea9feca8870102a3f1",
            "value": " 1/1 [00:00&lt;00:00, 65.51ba/s]"
          }
        },
        "57c7f8fc5cbe4d968d8f7535cdc83c8b": {
          "model_module": "@jupyter-widgets/base",
          "model_module_version": "1.2.0",
          "model_name": "LayoutModel",
          "state": {
            "_model_module": "@jupyter-widgets/base",
            "_model_module_version": "1.2.0",
            "_model_name": "LayoutModel",
            "_view_count": null,
            "_view_module": "@jupyter-widgets/base",
            "_view_module_version": "1.2.0",
            "_view_name": "LayoutView",
            "align_content": null,
            "align_items": null,
            "align_self": null,
            "border": null,
            "bottom": null,
            "display": null,
            "flex": null,
            "flex_flow": null,
            "grid_area": null,
            "grid_auto_columns": null,
            "grid_auto_flow": null,
            "grid_auto_rows": null,
            "grid_column": null,
            "grid_gap": null,
            "grid_row": null,
            "grid_template_areas": null,
            "grid_template_columns": null,
            "grid_template_rows": null,
            "height": null,
            "justify_content": null,
            "justify_items": null,
            "left": null,
            "margin": null,
            "max_height": null,
            "max_width": null,
            "min_height": null,
            "min_width": null,
            "object_fit": null,
            "object_position": null,
            "order": null,
            "overflow": null,
            "overflow_x": null,
            "overflow_y": null,
            "padding": null,
            "right": null,
            "top": null,
            "visibility": null,
            "width": null
          }
        },
        "5bb39ecfe40747009227ee7765aea87a": {
          "model_module": "@jupyter-widgets/base",
          "model_module_version": "1.2.0",
          "model_name": "LayoutModel",
          "state": {
            "_model_module": "@jupyter-widgets/base",
            "_model_module_version": "1.2.0",
            "_model_name": "LayoutModel",
            "_view_count": null,
            "_view_module": "@jupyter-widgets/base",
            "_view_module_version": "1.2.0",
            "_view_name": "LayoutView",
            "align_content": null,
            "align_items": null,
            "align_self": null,
            "border": null,
            "bottom": null,
            "display": null,
            "flex": null,
            "flex_flow": null,
            "grid_area": null,
            "grid_auto_columns": null,
            "grid_auto_flow": null,
            "grid_auto_rows": null,
            "grid_column": null,
            "grid_gap": null,
            "grid_row": null,
            "grid_template_areas": null,
            "grid_template_columns": null,
            "grid_template_rows": null,
            "height": null,
            "justify_content": null,
            "justify_items": null,
            "left": null,
            "margin": null,
            "max_height": null,
            "max_width": null,
            "min_height": null,
            "min_width": null,
            "object_fit": null,
            "object_position": null,
            "order": null,
            "overflow": null,
            "overflow_x": null,
            "overflow_y": null,
            "padding": null,
            "right": null,
            "top": null,
            "visibility": null,
            "width": null
          }
        },
        "609dedbee5d448459830bbeb81328d69": {
          "model_module": "@jupyter-widgets/base",
          "model_module_version": "1.2.0",
          "model_name": "LayoutModel",
          "state": {
            "_model_module": "@jupyter-widgets/base",
            "_model_module_version": "1.2.0",
            "_model_name": "LayoutModel",
            "_view_count": null,
            "_view_module": "@jupyter-widgets/base",
            "_view_module_version": "1.2.0",
            "_view_name": "LayoutView",
            "align_content": null,
            "align_items": null,
            "align_self": null,
            "border": null,
            "bottom": null,
            "display": null,
            "flex": null,
            "flex_flow": null,
            "grid_area": null,
            "grid_auto_columns": null,
            "grid_auto_flow": null,
            "grid_auto_rows": null,
            "grid_column": null,
            "grid_gap": null,
            "grid_row": null,
            "grid_template_areas": null,
            "grid_template_columns": null,
            "grid_template_rows": null,
            "height": null,
            "justify_content": null,
            "justify_items": null,
            "left": null,
            "margin": null,
            "max_height": null,
            "max_width": null,
            "min_height": null,
            "min_width": null,
            "object_fit": null,
            "object_position": null,
            "order": null,
            "overflow": null,
            "overflow_x": null,
            "overflow_y": null,
            "padding": null,
            "right": null,
            "top": null,
            "visibility": null,
            "width": null
          }
        },
        "627af13ba5c14ef19fba8d6ad080ff29": {
          "model_module": "@jupyter-widgets/controls",
          "model_module_version": "1.5.0",
          "model_name": "FloatProgressModel",
          "state": {
            "_dom_classes": [],
            "_model_module": "@jupyter-widgets/controls",
            "_model_module_version": "1.5.0",
            "_model_name": "FloatProgressModel",
            "_view_count": null,
            "_view_module": "@jupyter-widgets/controls",
            "_view_module_version": "1.5.0",
            "_view_name": "ProgressView",
            "bar_style": "success",
            "description": "",
            "description_tooltip": null,
            "layout": "IPY_MODEL_8557c24d9fca4de790eff9cf23fceae3",
            "max": 28,
            "min": 0,
            "orientation": "horizontal",
            "style": "IPY_MODEL_dc501a6f902a46ec91c40af40b814561",
            "value": 28
          }
        },
        "62d323b5067c45c2a14aeca121ba5a18": {
          "model_module": "@jupyter-widgets/controls",
          "model_module_version": "1.5.0",
          "model_name": "HBoxModel",
          "state": {
            "_dom_classes": [],
            "_model_module": "@jupyter-widgets/controls",
            "_model_module_version": "1.5.0",
            "_model_name": "HBoxModel",
            "_view_count": null,
            "_view_module": "@jupyter-widgets/controls",
            "_view_module_version": "1.5.0",
            "_view_name": "HBoxView",
            "box_style": "",
            "children": [
              "IPY_MODEL_c31cd28e5a504bbea9c5136283a6acc6",
              "IPY_MODEL_b82b7348d2a24193b1048b01b18f3989",
              "IPY_MODEL_7c5c1f65e7594009a7a41c8061647acd"
            ],
            "layout": "IPY_MODEL_609dedbee5d448459830bbeb81328d69"
          }
        },
        "6f765f06e6794f839a0e1c0eeb7f49cd": {
          "model_module": "@jupyter-widgets/base",
          "model_module_version": "1.2.0",
          "model_name": "LayoutModel",
          "state": {
            "_model_module": "@jupyter-widgets/base",
            "_model_module_version": "1.2.0",
            "_model_name": "LayoutModel",
            "_view_count": null,
            "_view_module": "@jupyter-widgets/base",
            "_view_module_version": "1.2.0",
            "_view_name": "LayoutView",
            "align_content": null,
            "align_items": null,
            "align_self": null,
            "border": null,
            "bottom": null,
            "display": null,
            "flex": null,
            "flex_flow": null,
            "grid_area": null,
            "grid_auto_columns": null,
            "grid_auto_flow": null,
            "grid_auto_rows": null,
            "grid_column": null,
            "grid_gap": null,
            "grid_row": null,
            "grid_template_areas": null,
            "grid_template_columns": null,
            "grid_template_rows": null,
            "height": null,
            "justify_content": null,
            "justify_items": null,
            "left": null,
            "margin": null,
            "max_height": null,
            "max_width": null,
            "min_height": null,
            "min_width": null,
            "object_fit": null,
            "object_position": null,
            "order": null,
            "overflow": null,
            "overflow_x": null,
            "overflow_y": null,
            "padding": null,
            "right": null,
            "top": null,
            "visibility": null,
            "width": null
          }
        },
        "778f95c2f5094d3a8b936c283fd3b8bb": {
          "model_module": "@jupyter-widgets/controls",
          "model_module_version": "1.5.0",
          "model_name": "HBoxModel",
          "state": {
            "_dom_classes": [],
            "_model_module": "@jupyter-widgets/controls",
            "_model_module_version": "1.5.0",
            "_model_name": "HBoxModel",
            "_view_count": null,
            "_view_module": "@jupyter-widgets/controls",
            "_view_module_version": "1.5.0",
            "_view_name": "HBoxView",
            "box_style": "",
            "children": [
              "IPY_MODEL_d6292a2856b74e8bb5481bc378f0adbf",
              "IPY_MODEL_d3d6cf73b6174855acfdf864a6888c86",
              "IPY_MODEL_eb27062877684a6689d990003bdc4ab8"
            ],
            "layout": "IPY_MODEL_833a43985d8b4b978d654de2f5cb4da8"
          }
        },
        "7849355ef7374caeb978a2fde46f88f1": {
          "model_module": "@jupyter-widgets/controls",
          "model_module_version": "1.5.0",
          "model_name": "FloatProgressModel",
          "state": {
            "_dom_classes": [],
            "_model_module": "@jupyter-widgets/controls",
            "_model_module_version": "1.5.0",
            "_model_name": "FloatProgressModel",
            "_view_count": null,
            "_view_module": "@jupyter-widgets/controls",
            "_view_module_version": "1.5.0",
            "_view_name": "ProgressView",
            "bar_style": "success",
            "description": "",
            "description_tooltip": null,
            "layout": "IPY_MODEL_0b41c3ba86e6476a8e30929c59bdf598",
            "max": 1,
            "min": 0,
            "orientation": "horizontal",
            "style": "IPY_MODEL_7cd2ca7b7f2b47c8b8854588e1957288",
            "value": 1
          }
        },
        "7a5cf50458db4d198d4c9aee83627676": {
          "model_module": "@jupyter-widgets/base",
          "model_module_version": "1.2.0",
          "model_name": "LayoutModel",
          "state": {
            "_model_module": "@jupyter-widgets/base",
            "_model_module_version": "1.2.0",
            "_model_name": "LayoutModel",
            "_view_count": null,
            "_view_module": "@jupyter-widgets/base",
            "_view_module_version": "1.2.0",
            "_view_name": "LayoutView",
            "align_content": null,
            "align_items": null,
            "align_self": null,
            "border": null,
            "bottom": null,
            "display": null,
            "flex": null,
            "flex_flow": null,
            "grid_area": null,
            "grid_auto_columns": null,
            "grid_auto_flow": null,
            "grid_auto_rows": null,
            "grid_column": null,
            "grid_gap": null,
            "grid_row": null,
            "grid_template_areas": null,
            "grid_template_columns": null,
            "grid_template_rows": null,
            "height": null,
            "justify_content": null,
            "justify_items": null,
            "left": null,
            "margin": null,
            "max_height": null,
            "max_width": null,
            "min_height": null,
            "min_width": null,
            "object_fit": null,
            "object_position": null,
            "order": null,
            "overflow": null,
            "overflow_x": null,
            "overflow_y": null,
            "padding": null,
            "right": null,
            "top": null,
            "visibility": null,
            "width": null
          }
        },
        "7aa9b6023b6c4195acc34bc782bf0f29": {
          "model_module": "@jupyter-widgets/base",
          "model_module_version": "1.2.0",
          "model_name": "LayoutModel",
          "state": {
            "_model_module": "@jupyter-widgets/base",
            "_model_module_version": "1.2.0",
            "_model_name": "LayoutModel",
            "_view_count": null,
            "_view_module": "@jupyter-widgets/base",
            "_view_module_version": "1.2.0",
            "_view_name": "LayoutView",
            "align_content": null,
            "align_items": null,
            "align_self": null,
            "border": null,
            "bottom": null,
            "display": null,
            "flex": null,
            "flex_flow": null,
            "grid_area": null,
            "grid_auto_columns": null,
            "grid_auto_flow": null,
            "grid_auto_rows": null,
            "grid_column": null,
            "grid_gap": null,
            "grid_row": null,
            "grid_template_areas": null,
            "grid_template_columns": null,
            "grid_template_rows": null,
            "height": null,
            "justify_content": null,
            "justify_items": null,
            "left": null,
            "margin": null,
            "max_height": null,
            "max_width": null,
            "min_height": null,
            "min_width": null,
            "object_fit": null,
            "object_position": null,
            "order": null,
            "overflow": null,
            "overflow_x": null,
            "overflow_y": null,
            "padding": null,
            "right": null,
            "top": null,
            "visibility": null,
            "width": null
          }
        },
        "7c5c1f65e7594009a7a41c8061647acd": {
          "model_module": "@jupyter-widgets/controls",
          "model_module_version": "1.5.0",
          "model_name": "HTMLModel",
          "state": {
            "_dom_classes": [],
            "_model_module": "@jupyter-widgets/controls",
            "_model_module_version": "1.5.0",
            "_model_name": "HTMLModel",
            "_view_count": null,
            "_view_module": "@jupyter-widgets/controls",
            "_view_module_version": "1.5.0",
            "_view_name": "HTMLView",
            "description": "",
            "description_tooltip": null,
            "layout": "IPY_MODEL_2a8eda658bf943708b8423476a635e93",
            "placeholder": "​",
            "style": "IPY_MODEL_ac384ddf04a84d07a3dee00f3300a13f",
            "value": " 296/296 [00:00&lt;00:00, 23.7kB/s]"
          }
        },
        "7cd2ca7b7f2b47c8b8854588e1957288": {
          "model_module": "@jupyter-widgets/controls",
          "model_module_version": "1.5.0",
          "model_name": "ProgressStyleModel",
          "state": {
            "_model_module": "@jupyter-widgets/controls",
            "_model_module_version": "1.5.0",
            "_model_name": "ProgressStyleModel",
            "_view_count": null,
            "_view_module": "@jupyter-widgets/base",
            "_view_module_version": "1.2.0",
            "_view_name": "StyleView",
            "bar_color": null,
            "description_width": ""
          }
        },
        "833a43985d8b4b978d654de2f5cb4da8": {
          "model_module": "@jupyter-widgets/base",
          "model_module_version": "1.2.0",
          "model_name": "LayoutModel",
          "state": {
            "_model_module": "@jupyter-widgets/base",
            "_model_module_version": "1.2.0",
            "_model_name": "LayoutModel",
            "_view_count": null,
            "_view_module": "@jupyter-widgets/base",
            "_view_module_version": "1.2.0",
            "_view_name": "LayoutView",
            "align_content": null,
            "align_items": null,
            "align_self": null,
            "border": null,
            "bottom": null,
            "display": null,
            "flex": null,
            "flex_flow": null,
            "grid_area": null,
            "grid_auto_columns": null,
            "grid_auto_flow": null,
            "grid_auto_rows": null,
            "grid_column": null,
            "grid_gap": null,
            "grid_row": null,
            "grid_template_areas": null,
            "grid_template_columns": null,
            "grid_template_rows": null,
            "height": null,
            "justify_content": null,
            "justify_items": null,
            "left": null,
            "margin": null,
            "max_height": null,
            "max_width": null,
            "min_height": null,
            "min_width": null,
            "object_fit": null,
            "object_position": null,
            "order": null,
            "overflow": null,
            "overflow_x": null,
            "overflow_y": null,
            "padding": null,
            "right": null,
            "top": null,
            "visibility": null,
            "width": null
          }
        },
        "83d9073e568c43978a5bb9cd3f62c617": {
          "model_module": "@jupyter-widgets/controls",
          "model_module_version": "1.5.0",
          "model_name": "HTMLModel",
          "state": {
            "_dom_classes": [],
            "_model_module": "@jupyter-widgets/controls",
            "_model_module_version": "1.5.0",
            "_model_name": "HTMLModel",
            "_view_count": null,
            "_view_module": "@jupyter-widgets/controls",
            "_view_module_version": "1.5.0",
            "_view_name": "HTMLView",
            "description": "",
            "description_tooltip": null,
            "layout": "IPY_MODEL_8be4e576c7e04c208a3516302deffb3b",
            "placeholder": "​",
            "style": "IPY_MODEL_fa76f9a1397e417fb2dc3300cead5f7e",
            "value": "README.md: 100%"
          }
        },
        "8557c24d9fca4de790eff9cf23fceae3": {
          "model_module": "@jupyter-widgets/base",
          "model_module_version": "1.2.0",
          "model_name": "LayoutModel",
          "state": {
            "_model_module": "@jupyter-widgets/base",
            "_model_module_version": "1.2.0",
            "_model_name": "LayoutModel",
            "_view_count": null,
            "_view_module": "@jupyter-widgets/base",
            "_view_module_version": "1.2.0",
            "_view_name": "LayoutView",
            "align_content": null,
            "align_items": null,
            "align_self": null,
            "border": null,
            "bottom": null,
            "display": null,
            "flex": null,
            "flex_flow": null,
            "grid_area": null,
            "grid_auto_columns": null,
            "grid_auto_flow": null,
            "grid_auto_rows": null,
            "grid_column": null,
            "grid_gap": null,
            "grid_row": null,
            "grid_template_areas": null,
            "grid_template_columns": null,
            "grid_template_rows": null,
            "height": null,
            "justify_content": null,
            "justify_items": null,
            "left": null,
            "margin": null,
            "max_height": null,
            "max_width": null,
            "min_height": null,
            "min_width": null,
            "object_fit": null,
            "object_position": null,
            "order": null,
            "overflow": null,
            "overflow_x": null,
            "overflow_y": null,
            "padding": null,
            "right": null,
            "top": null,
            "visibility": null,
            "width": null
          }
        },
        "8be4e576c7e04c208a3516302deffb3b": {
          "model_module": "@jupyter-widgets/base",
          "model_module_version": "1.2.0",
          "model_name": "LayoutModel",
          "state": {
            "_model_module": "@jupyter-widgets/base",
            "_model_module_version": "1.2.0",
            "_model_name": "LayoutModel",
            "_view_count": null,
            "_view_module": "@jupyter-widgets/base",
            "_view_module_version": "1.2.0",
            "_view_name": "LayoutView",
            "align_content": null,
            "align_items": null,
            "align_self": null,
            "border": null,
            "bottom": null,
            "display": null,
            "flex": null,
            "flex_flow": null,
            "grid_area": null,
            "grid_auto_columns": null,
            "grid_auto_flow": null,
            "grid_auto_rows": null,
            "grid_column": null,
            "grid_gap": null,
            "grid_row": null,
            "grid_template_areas": null,
            "grid_template_columns": null,
            "grid_template_rows": null,
            "height": null,
            "justify_content": null,
            "justify_items": null,
            "left": null,
            "margin": null,
            "max_height": null,
            "max_width": null,
            "min_height": null,
            "min_width": null,
            "object_fit": null,
            "object_position": null,
            "order": null,
            "overflow": null,
            "overflow_x": null,
            "overflow_y": null,
            "padding": null,
            "right": null,
            "top": null,
            "visibility": null,
            "width": null
          }
        },
        "94946f66cddd49ce8482b4e913decf81": {
          "model_module": "@jupyter-widgets/base",
          "model_module_version": "1.2.0",
          "model_name": "LayoutModel",
          "state": {
            "_model_module": "@jupyter-widgets/base",
            "_model_module_version": "1.2.0",
            "_model_name": "LayoutModel",
            "_view_count": null,
            "_view_module": "@jupyter-widgets/base",
            "_view_module_version": "1.2.0",
            "_view_name": "LayoutView",
            "align_content": null,
            "align_items": null,
            "align_self": null,
            "border": null,
            "bottom": null,
            "display": null,
            "flex": null,
            "flex_flow": null,
            "grid_area": null,
            "grid_auto_columns": null,
            "grid_auto_flow": null,
            "grid_auto_rows": null,
            "grid_column": null,
            "grid_gap": null,
            "grid_row": null,
            "grid_template_areas": null,
            "grid_template_columns": null,
            "grid_template_rows": null,
            "height": null,
            "justify_content": null,
            "justify_items": null,
            "left": null,
            "margin": null,
            "max_height": null,
            "max_width": null,
            "min_height": null,
            "min_width": null,
            "object_fit": null,
            "object_position": null,
            "order": null,
            "overflow": null,
            "overflow_x": null,
            "overflow_y": null,
            "padding": null,
            "right": null,
            "top": null,
            "visibility": null,
            "width": null
          }
        },
        "970cfc4baafc430282a0c685e6d4248b": {
          "model_module": "@jupyter-widgets/controls",
          "model_module_version": "1.5.0",
          "model_name": "FloatProgressModel",
          "state": {
            "_dom_classes": [],
            "_model_module": "@jupyter-widgets/controls",
            "_model_module_version": "1.5.0",
            "_model_name": "FloatProgressModel",
            "_view_count": null,
            "_view_module": "@jupyter-widgets/controls",
            "_view_module_version": "1.5.0",
            "_view_name": "ProgressView",
            "bar_style": "success",
            "description": "",
            "description_tooltip": null,
            "layout": "IPY_MODEL_5bb39ecfe40747009227ee7765aea87a",
            "max": 1,
            "min": 0,
            "orientation": "horizontal",
            "style": "IPY_MODEL_12fd85479fc1497f8ba1caaf144b9169",
            "value": 1
          }
        },
        "992b6286bffd40be9955b16a7dabe7aa": {
          "model_module": "@jupyter-widgets/base",
          "model_module_version": "1.2.0",
          "model_name": "LayoutModel",
          "state": {
            "_model_module": "@jupyter-widgets/base",
            "_model_module_version": "1.2.0",
            "_model_name": "LayoutModel",
            "_view_count": null,
            "_view_module": "@jupyter-widgets/base",
            "_view_module_version": "1.2.0",
            "_view_name": "LayoutView",
            "align_content": null,
            "align_items": null,
            "align_self": null,
            "border": null,
            "bottom": null,
            "display": null,
            "flex": null,
            "flex_flow": null,
            "grid_area": null,
            "grid_auto_columns": null,
            "grid_auto_flow": null,
            "grid_auto_rows": null,
            "grid_column": null,
            "grid_gap": null,
            "grid_row": null,
            "grid_template_areas": null,
            "grid_template_columns": null,
            "grid_template_rows": null,
            "height": null,
            "justify_content": null,
            "justify_items": null,
            "left": null,
            "margin": null,
            "max_height": null,
            "max_width": null,
            "min_height": null,
            "min_width": null,
            "object_fit": null,
            "object_position": null,
            "order": null,
            "overflow": null,
            "overflow_x": null,
            "overflow_y": null,
            "padding": null,
            "right": null,
            "top": null,
            "visibility": null,
            "width": null
          }
        },
        "9a88252a910540ea9feca8870102a3f1": {
          "model_module": "@jupyter-widgets/controls",
          "model_module_version": "1.5.0",
          "model_name": "DescriptionStyleModel",
          "state": {
            "_model_module": "@jupyter-widgets/controls",
            "_model_module_version": "1.5.0",
            "_model_name": "DescriptionStyleModel",
            "_view_count": null,
            "_view_module": "@jupyter-widgets/base",
            "_view_module_version": "1.2.0",
            "_view_name": "StyleView",
            "description_width": ""
          }
        },
        "9c0d85f448b246b799b2a6e866297f3f": {
          "model_module": "@jupyter-widgets/controls",
          "model_module_version": "1.5.0",
          "model_name": "DescriptionStyleModel",
          "state": {
            "_model_module": "@jupyter-widgets/controls",
            "_model_module_version": "1.5.0",
            "_model_name": "DescriptionStyleModel",
            "_view_count": null,
            "_view_module": "@jupyter-widgets/base",
            "_view_module_version": "1.2.0",
            "_view_name": "StyleView",
            "description_width": ""
          }
        },
        "9f78e7e5f7e444658435c19d33614250": {
          "model_module": "@jupyter-widgets/controls",
          "model_module_version": "1.5.0",
          "model_name": "DescriptionStyleModel",
          "state": {
            "_model_module": "@jupyter-widgets/controls",
            "_model_module_version": "1.5.0",
            "_model_name": "DescriptionStyleModel",
            "_view_count": null,
            "_view_module": "@jupyter-widgets/base",
            "_view_module_version": "1.2.0",
            "_view_name": "StyleView",
            "description_width": ""
          }
        },
        "a8a78d811a904479b5ee072e752c73c9": {
          "model_module": "@jupyter-widgets/controls",
          "model_module_version": "1.5.0",
          "model_name": "ProgressStyleModel",
          "state": {
            "_model_module": "@jupyter-widgets/controls",
            "_model_module_version": "1.5.0",
            "_model_name": "ProgressStyleModel",
            "_view_count": null,
            "_view_module": "@jupyter-widgets/base",
            "_view_module_version": "1.2.0",
            "_view_name": "StyleView",
            "bar_color": null,
            "description_width": ""
          }
        },
        "a9a745a92ee6447c9f0bdb52d342fd48": {
          "model_module": "@jupyter-widgets/base",
          "model_module_version": "1.2.0",
          "model_name": "LayoutModel",
          "state": {
            "_model_module": "@jupyter-widgets/base",
            "_model_module_version": "1.2.0",
            "_model_name": "LayoutModel",
            "_view_count": null,
            "_view_module": "@jupyter-widgets/base",
            "_view_module_version": "1.2.0",
            "_view_name": "LayoutView",
            "align_content": null,
            "align_items": null,
            "align_self": null,
            "border": null,
            "bottom": null,
            "display": null,
            "flex": null,
            "flex_flow": null,
            "grid_area": null,
            "grid_auto_columns": null,
            "grid_auto_flow": null,
            "grid_auto_rows": null,
            "grid_column": null,
            "grid_gap": null,
            "grid_row": null,
            "grid_template_areas": null,
            "grid_template_columns": null,
            "grid_template_rows": null,
            "height": null,
            "justify_content": null,
            "justify_items": null,
            "left": null,
            "margin": null,
            "max_height": null,
            "max_width": null,
            "min_height": null,
            "min_width": null,
            "object_fit": null,
            "object_position": null,
            "order": null,
            "overflow": null,
            "overflow_x": null,
            "overflow_y": null,
            "padding": null,
            "right": null,
            "top": null,
            "visibility": null,
            "width": null
          }
        },
        "ac30dd5cbcf44f1a9e2108b28d760c49": {
          "model_module": "@jupyter-widgets/controls",
          "model_module_version": "1.5.0",
          "model_name": "HBoxModel",
          "state": {
            "_dom_classes": [],
            "_model_module": "@jupyter-widgets/controls",
            "_model_module_version": "1.5.0",
            "_model_name": "HBoxModel",
            "_view_count": null,
            "_view_module": "@jupyter-widgets/controls",
            "_view_module_version": "1.5.0",
            "_view_name": "HBoxView",
            "box_style": "",
            "children": [
              "IPY_MODEL_83d9073e568c43978a5bb9cd3f62c617",
              "IPY_MODEL_627af13ba5c14ef19fba8d6ad080ff29",
              "IPY_MODEL_c0b9904069ec40959dac459deb201f14"
            ],
            "layout": "IPY_MODEL_20c1cea9ab67457f9b5f1327af4baf70"
          }
        },
        "ac384ddf04a84d07a3dee00f3300a13f": {
          "model_module": "@jupyter-widgets/controls",
          "model_module_version": "1.5.0",
          "model_name": "DescriptionStyleModel",
          "state": {
            "_model_module": "@jupyter-widgets/controls",
            "_model_module_version": "1.5.0",
            "_model_name": "DescriptionStyleModel",
            "_view_count": null,
            "_view_module": "@jupyter-widgets/base",
            "_view_module_version": "1.2.0",
            "_view_name": "StyleView",
            "description_width": ""
          }
        },
        "af1925fc29e147569a2e6bd2b6658050": {
          "model_module": "@jupyter-widgets/controls",
          "model_module_version": "1.5.0",
          "model_name": "HTMLModel",
          "state": {
            "_dom_classes": [],
            "_model_module": "@jupyter-widgets/controls",
            "_model_module_version": "1.5.0",
            "_model_name": "HTMLModel",
            "_view_count": null,
            "_view_module": "@jupyter-widgets/controls",
            "_view_module_version": "1.5.0",
            "_view_name": "HTMLView",
            "description": "",
            "description_tooltip": null,
            "layout": "IPY_MODEL_7a5cf50458db4d198d4c9aee83627676",
            "placeholder": "​",
            "style": "IPY_MODEL_b5a05690014645ddae20e00e6065bb9e",
            "value": " 1/1 [00:00&lt;00:00, 41.72ba/s]"
          }
        },
        "b5a05690014645ddae20e00e6065bb9e": {
          "model_module": "@jupyter-widgets/controls",
          "model_module_version": "1.5.0",
          "model_name": "DescriptionStyleModel",
          "state": {
            "_model_module": "@jupyter-widgets/controls",
            "_model_module_version": "1.5.0",
            "_model_name": "DescriptionStyleModel",
            "_view_count": null,
            "_view_module": "@jupyter-widgets/base",
            "_view_module_version": "1.2.0",
            "_view_name": "StyleView",
            "description_width": ""
          }
        },
        "b792c8fa69814c98a3d4433faeec8c4c": {
          "model_module": "@jupyter-widgets/base",
          "model_module_version": "1.2.0",
          "model_name": "LayoutModel",
          "state": {
            "_model_module": "@jupyter-widgets/base",
            "_model_module_version": "1.2.0",
            "_model_name": "LayoutModel",
            "_view_count": null,
            "_view_module": "@jupyter-widgets/base",
            "_view_module_version": "1.2.0",
            "_view_name": "LayoutView",
            "align_content": null,
            "align_items": null,
            "align_self": null,
            "border": null,
            "bottom": null,
            "display": null,
            "flex": null,
            "flex_flow": null,
            "grid_area": null,
            "grid_auto_columns": null,
            "grid_auto_flow": null,
            "grid_auto_rows": null,
            "grid_column": null,
            "grid_gap": null,
            "grid_row": null,
            "grid_template_areas": null,
            "grid_template_columns": null,
            "grid_template_rows": null,
            "height": null,
            "justify_content": null,
            "justify_items": null,
            "left": null,
            "margin": null,
            "max_height": null,
            "max_width": null,
            "min_height": null,
            "min_width": null,
            "object_fit": null,
            "object_position": null,
            "order": null,
            "overflow": null,
            "overflow_x": null,
            "overflow_y": null,
            "padding": null,
            "right": null,
            "top": null,
            "visibility": null,
            "width": null
          }
        },
        "b82b7348d2a24193b1048b01b18f3989": {
          "model_module": "@jupyter-widgets/controls",
          "model_module_version": "1.5.0",
          "model_name": "FloatProgressModel",
          "state": {
            "_dom_classes": [],
            "_model_module": "@jupyter-widgets/controls",
            "_model_module_version": "1.5.0",
            "_model_name": "FloatProgressModel",
            "_view_count": null,
            "_view_module": "@jupyter-widgets/controls",
            "_view_module_version": "1.5.0",
            "_view_name": "ProgressView",
            "bar_style": "success",
            "description": "",
            "description_tooltip": null,
            "layout": "IPY_MODEL_d676ef8c99fe4da583f8e4b3ffd8e427",
            "max": 296,
            "min": 0,
            "orientation": "horizontal",
            "style": "IPY_MODEL_377e64ab82f449fa9669f2f50bae0b19",
            "value": 296
          }
        },
        "b8ba8a212b8a43b495f7708aa12ec909": {
          "model_module": "@jupyter-widgets/base",
          "model_module_version": "1.2.0",
          "model_name": "LayoutModel",
          "state": {
            "_model_module": "@jupyter-widgets/base",
            "_model_module_version": "1.2.0",
            "_model_name": "LayoutModel",
            "_view_count": null,
            "_view_module": "@jupyter-widgets/base",
            "_view_module_version": "1.2.0",
            "_view_name": "LayoutView",
            "align_content": null,
            "align_items": null,
            "align_self": null,
            "border": null,
            "bottom": null,
            "display": null,
            "flex": null,
            "flex_flow": null,
            "grid_area": null,
            "grid_auto_columns": null,
            "grid_auto_flow": null,
            "grid_auto_rows": null,
            "grid_column": null,
            "grid_gap": null,
            "grid_row": null,
            "grid_template_areas": null,
            "grid_template_columns": null,
            "grid_template_rows": null,
            "height": null,
            "justify_content": null,
            "justify_items": null,
            "left": null,
            "margin": null,
            "max_height": null,
            "max_width": null,
            "min_height": null,
            "min_width": null,
            "object_fit": null,
            "object_position": null,
            "order": null,
            "overflow": null,
            "overflow_x": null,
            "overflow_y": null,
            "padding": null,
            "right": null,
            "top": null,
            "visibility": null,
            "width": null
          }
        },
        "bc2fc8d66d39413f8496683817ddc744": {
          "model_module": "@jupyter-widgets/controls",
          "model_module_version": "1.5.0",
          "model_name": "ProgressStyleModel",
          "state": {
            "_model_module": "@jupyter-widgets/controls",
            "_model_module_version": "1.5.0",
            "_model_name": "ProgressStyleModel",
            "_view_count": null,
            "_view_module": "@jupyter-widgets/base",
            "_view_module_version": "1.2.0",
            "_view_name": "StyleView",
            "bar_color": null,
            "description_width": ""
          }
        },
        "bf7bb495e31d49edb0aad4ee01e6ff59": {
          "model_module": "@jupyter-widgets/controls",
          "model_module_version": "1.5.0",
          "model_name": "HTMLModel",
          "state": {
            "_dom_classes": [],
            "_model_module": "@jupyter-widgets/controls",
            "_model_module_version": "1.5.0",
            "_model_name": "HTMLModel",
            "_view_count": null,
            "_view_module": "@jupyter-widgets/controls",
            "_view_module_version": "1.5.0",
            "_view_name": "HTMLView",
            "description": "",
            "description_tooltip": null,
            "layout": "IPY_MODEL_cf4e7483ad904d1cafc8cbc65de11428",
            "placeholder": "​",
            "style": "IPY_MODEL_ecfeb1cc51cf4b4da8f081a778df828f",
            "value": " 1/1 [00:00&lt;00:00,  5.80it/s]"
          }
        },
        "c0b9904069ec40959dac459deb201f14": {
          "model_module": "@jupyter-widgets/controls",
          "model_module_version": "1.5.0",
          "model_name": "HTMLModel",
          "state": {
            "_dom_classes": [],
            "_model_module": "@jupyter-widgets/controls",
            "_model_module_version": "1.5.0",
            "_model_name": "HTMLModel",
            "_view_count": null,
            "_view_module": "@jupyter-widgets/controls",
            "_view_module_version": "1.5.0",
            "_view_name": "HTMLView",
            "description": "",
            "description_tooltip": null,
            "layout": "IPY_MODEL_b8ba8a212b8a43b495f7708aa12ec909",
            "placeholder": "​",
            "style": "IPY_MODEL_9c0d85f448b246b799b2a6e866297f3f",
            "value": " 28.0/28.0 [00:00&lt;00:00, 2.45kB/s]"
          }
        },
        "c31cd28e5a504bbea9c5136283a6acc6": {
          "model_module": "@jupyter-widgets/controls",
          "model_module_version": "1.5.0",
          "model_name": "HTMLModel",
          "state": {
            "_dom_classes": [],
            "_model_module": "@jupyter-widgets/controls",
            "_model_module_version": "1.5.0",
            "_model_name": "HTMLModel",
            "_view_count": null,
            "_view_module": "@jupyter-widgets/controls",
            "_view_module_version": "1.5.0",
            "_view_name": "HTMLView",
            "description": "",
            "description_tooltip": null,
            "layout": "IPY_MODEL_94946f66cddd49ce8482b4e913decf81",
            "placeholder": "​",
            "style": "IPY_MODEL_e21295f554a147cf82186e10ebb57ec7",
            "value": "README.md: 100%"
          }
        },
        "c54ef66994e64fa78386b22a27519385": {
          "model_module": "@jupyter-widgets/controls",
          "model_module_version": "1.5.0",
          "model_name": "FloatProgressModel",
          "state": {
            "_dom_classes": [],
            "_model_module": "@jupyter-widgets/controls",
            "_model_module_version": "1.5.0",
            "_model_name": "FloatProgressModel",
            "_view_count": null,
            "_view_module": "@jupyter-widgets/controls",
            "_view_module_version": "1.5.0",
            "_view_name": "ProgressView",
            "bar_style": "success",
            "description": "",
            "description_tooltip": null,
            "layout": "IPY_MODEL_7aa9b6023b6c4195acc34bc782bf0f29",
            "max": 1,
            "min": 0,
            "orientation": "horizontal",
            "style": "IPY_MODEL_a8a78d811a904479b5ee072e752c73c9",
            "value": 1
          }
        },
        "c7759b0426f04be6834e3f640f72fdc8": {
          "model_module": "@jupyter-widgets/controls",
          "model_module_version": "1.5.0",
          "model_name": "HTMLModel",
          "state": {
            "_dom_classes": [],
            "_model_module": "@jupyter-widgets/controls",
            "_model_module_version": "1.5.0",
            "_model_name": "HTMLModel",
            "_view_count": null,
            "_view_module": "@jupyter-widgets/controls",
            "_view_module_version": "1.5.0",
            "_view_name": "HTMLView",
            "description": "",
            "description_tooltip": null,
            "layout": "IPY_MODEL_6f765f06e6794f839a0e1c0eeb7f49cd",
            "placeholder": "​",
            "style": "IPY_MODEL_185aaab55a7e4bd1b365a5fc91aec680",
            "value": "Uploading the dataset shards: 100%"
          }
        },
        "cf4e7483ad904d1cafc8cbc65de11428": {
          "model_module": "@jupyter-widgets/base",
          "model_module_version": "1.2.0",
          "model_name": "LayoutModel",
          "state": {
            "_model_module": "@jupyter-widgets/base",
            "_model_module_version": "1.2.0",
            "_model_name": "LayoutModel",
            "_view_count": null,
            "_view_module": "@jupyter-widgets/base",
            "_view_module_version": "1.2.0",
            "_view_name": "LayoutView",
            "align_content": null,
            "align_items": null,
            "align_self": null,
            "border": null,
            "bottom": null,
            "display": null,
            "flex": null,
            "flex_flow": null,
            "grid_area": null,
            "grid_auto_columns": null,
            "grid_auto_flow": null,
            "grid_auto_rows": null,
            "grid_column": null,
            "grid_gap": null,
            "grid_row": null,
            "grid_template_areas": null,
            "grid_template_columns": null,
            "grid_template_rows": null,
            "height": null,
            "justify_content": null,
            "justify_items": null,
            "left": null,
            "margin": null,
            "max_height": null,
            "max_width": null,
            "min_height": null,
            "min_width": null,
            "object_fit": null,
            "object_position": null,
            "order": null,
            "overflow": null,
            "overflow_x": null,
            "overflow_y": null,
            "padding": null,
            "right": null,
            "top": null,
            "visibility": null,
            "width": null
          }
        },
        "d2ec83dcb6674233946229144393e89f": {
          "model_module": "@jupyter-widgets/controls",
          "model_module_version": "1.5.0",
          "model_name": "DescriptionStyleModel",
          "state": {
            "_model_module": "@jupyter-widgets/controls",
            "_model_module_version": "1.5.0",
            "_model_name": "DescriptionStyleModel",
            "_view_count": null,
            "_view_module": "@jupyter-widgets/base",
            "_view_module_version": "1.2.0",
            "_view_name": "StyleView",
            "description_width": ""
          }
        },
        "d3d6cf73b6174855acfdf864a6888c86": {
          "model_module": "@jupyter-widgets/controls",
          "model_module_version": "1.5.0",
          "model_name": "FloatProgressModel",
          "state": {
            "_dom_classes": [],
            "_model_module": "@jupyter-widgets/controls",
            "_model_module_version": "1.5.0",
            "_model_name": "FloatProgressModel",
            "_view_count": null,
            "_view_module": "@jupyter-widgets/controls",
            "_view_module_version": "1.5.0",
            "_view_name": "ProgressView",
            "bar_style": "success",
            "description": "",
            "description_tooltip": null,
            "layout": "IPY_MODEL_992b6286bffd40be9955b16a7dabe7aa",
            "max": 1,
            "min": 0,
            "orientation": "horizontal",
            "style": "IPY_MODEL_bc2fc8d66d39413f8496683817ddc744",
            "value": 1
          }
        },
        "d5a02bfd9594435e90da6715a7bd3416": {
          "model_module": "@jupyter-widgets/base",
          "model_module_version": "1.2.0",
          "model_name": "LayoutModel",
          "state": {
            "_model_module": "@jupyter-widgets/base",
            "_model_module_version": "1.2.0",
            "_model_name": "LayoutModel",
            "_view_count": null,
            "_view_module": "@jupyter-widgets/base",
            "_view_module_version": "1.2.0",
            "_view_name": "LayoutView",
            "align_content": null,
            "align_items": null,
            "align_self": null,
            "border": null,
            "bottom": null,
            "display": null,
            "flex": null,
            "flex_flow": null,
            "grid_area": null,
            "grid_auto_columns": null,
            "grid_auto_flow": null,
            "grid_auto_rows": null,
            "grid_column": null,
            "grid_gap": null,
            "grid_row": null,
            "grid_template_areas": null,
            "grid_template_columns": null,
            "grid_template_rows": null,
            "height": null,
            "justify_content": null,
            "justify_items": null,
            "left": null,
            "margin": null,
            "max_height": null,
            "max_width": null,
            "min_height": null,
            "min_width": null,
            "object_fit": null,
            "object_position": null,
            "order": null,
            "overflow": null,
            "overflow_x": null,
            "overflow_y": null,
            "padding": null,
            "right": null,
            "top": null,
            "visibility": null,
            "width": null
          }
        },
        "d6292a2856b74e8bb5481bc378f0adbf": {
          "model_module": "@jupyter-widgets/controls",
          "model_module_version": "1.5.0",
          "model_name": "HTMLModel",
          "state": {
            "_dom_classes": [],
            "_model_module": "@jupyter-widgets/controls",
            "_model_module_version": "1.5.0",
            "_model_name": "HTMLModel",
            "_view_count": null,
            "_view_module": "@jupyter-widgets/controls",
            "_view_module_version": "1.5.0",
            "_view_name": "HTMLView",
            "description": "",
            "description_tooltip": null,
            "layout": "IPY_MODEL_b792c8fa69814c98a3d4433faeec8c4c",
            "placeholder": "​",
            "style": "IPY_MODEL_130d38945ef341ccb5d45d3738a9017f",
            "value": "Uploading the dataset shards: 100%"
          }
        },
        "d676ef8c99fe4da583f8e4b3ffd8e427": {
          "model_module": "@jupyter-widgets/base",
          "model_module_version": "1.2.0",
          "model_name": "LayoutModel",
          "state": {
            "_model_module": "@jupyter-widgets/base",
            "_model_module_version": "1.2.0",
            "_model_name": "LayoutModel",
            "_view_count": null,
            "_view_module": "@jupyter-widgets/base",
            "_view_module_version": "1.2.0",
            "_view_name": "LayoutView",
            "align_content": null,
            "align_items": null,
            "align_self": null,
            "border": null,
            "bottom": null,
            "display": null,
            "flex": null,
            "flex_flow": null,
            "grid_area": null,
            "grid_auto_columns": null,
            "grid_auto_flow": null,
            "grid_auto_rows": null,
            "grid_column": null,
            "grid_gap": null,
            "grid_row": null,
            "grid_template_areas": null,
            "grid_template_columns": null,
            "grid_template_rows": null,
            "height": null,
            "justify_content": null,
            "justify_items": null,
            "left": null,
            "margin": null,
            "max_height": null,
            "max_width": null,
            "min_height": null,
            "min_width": null,
            "object_fit": null,
            "object_position": null,
            "order": null,
            "overflow": null,
            "overflow_x": null,
            "overflow_y": null,
            "padding": null,
            "right": null,
            "top": null,
            "visibility": null,
            "width": null
          }
        },
        "dc501a6f902a46ec91c40af40b814561": {
          "model_module": "@jupyter-widgets/controls",
          "model_module_version": "1.5.0",
          "model_name": "ProgressStyleModel",
          "state": {
            "_model_module": "@jupyter-widgets/controls",
            "_model_module_version": "1.5.0",
            "_model_name": "ProgressStyleModel",
            "_view_count": null,
            "_view_module": "@jupyter-widgets/base",
            "_view_module_version": "1.2.0",
            "_view_name": "StyleView",
            "bar_color": null,
            "description_width": ""
          }
        },
        "e21295f554a147cf82186e10ebb57ec7": {
          "model_module": "@jupyter-widgets/controls",
          "model_module_version": "1.5.0",
          "model_name": "DescriptionStyleModel",
          "state": {
            "_model_module": "@jupyter-widgets/controls",
            "_model_module_version": "1.5.0",
            "_model_name": "DescriptionStyleModel",
            "_view_count": null,
            "_view_module": "@jupyter-widgets/base",
            "_view_module_version": "1.2.0",
            "_view_name": "StyleView",
            "description_width": ""
          }
        },
        "eb27062877684a6689d990003bdc4ab8": {
          "model_module": "@jupyter-widgets/controls",
          "model_module_version": "1.5.0",
          "model_name": "HTMLModel",
          "state": {
            "_dom_classes": [],
            "_model_module": "@jupyter-widgets/controls",
            "_model_module_version": "1.5.0",
            "_model_name": "HTMLModel",
            "_view_count": null,
            "_view_module": "@jupyter-widgets/controls",
            "_view_module_version": "1.5.0",
            "_view_name": "HTMLView",
            "description": "",
            "description_tooltip": null,
            "layout": "IPY_MODEL_a9a745a92ee6447c9f0bdb52d342fd48",
            "placeholder": "​",
            "style": "IPY_MODEL_9f78e7e5f7e444658435c19d33614250",
            "value": " 1/1 [00:01&lt;00:00,  1.55s/it]"
          }
        },
        "ecfeb1cc51cf4b4da8f081a778df828f": {
          "model_module": "@jupyter-widgets/controls",
          "model_module_version": "1.5.0",
          "model_name": "DescriptionStyleModel",
          "state": {
            "_model_module": "@jupyter-widgets/controls",
            "_model_module_version": "1.5.0",
            "_model_name": "DescriptionStyleModel",
            "_view_count": null,
            "_view_module": "@jupyter-widgets/base",
            "_view_module_version": "1.2.0",
            "_view_name": "StyleView",
            "description_width": ""
          }
        },
        "f64efbcf46d642ea930b1844c9f1591a": {
          "model_module": "@jupyter-widgets/controls",
          "model_module_version": "1.5.0",
          "model_name": "HTMLModel",
          "state": {
            "_dom_classes": [],
            "_model_module": "@jupyter-widgets/controls",
            "_model_module_version": "1.5.0",
            "_model_name": "HTMLModel",
            "_view_count": null,
            "_view_module": "@jupyter-widgets/controls",
            "_view_module_version": "1.5.0",
            "_view_name": "HTMLView",
            "description": "",
            "description_tooltip": null,
            "layout": "IPY_MODEL_2fe3231a42444179a0aa31723b1cc99f",
            "placeholder": "​",
            "style": "IPY_MODEL_3770e31eafc54ba5a42a3fa412fadc00",
            "value": "Creating parquet from Arrow format: 100%"
          }
        },
        "fa76f9a1397e417fb2dc3300cead5f7e": {
          "model_module": "@jupyter-widgets/controls",
          "model_module_version": "1.5.0",
          "model_name": "DescriptionStyleModel",
          "state": {
            "_model_module": "@jupyter-widgets/controls",
            "_model_module_version": "1.5.0",
            "_model_name": "DescriptionStyleModel",
            "_view_count": null,
            "_view_module": "@jupyter-widgets/base",
            "_view_module_version": "1.2.0",
            "_view_name": "StyleView",
            "description_width": ""
          }
        },
        "fbed04abe3ba4d17b82c095a640aa9f5": {
          "model_module": "@jupyter-widgets/base",
          "model_module_version": "1.2.0",
          "model_name": "LayoutModel",
          "state": {
            "_model_module": "@jupyter-widgets/base",
            "_model_module_version": "1.2.0",
            "_model_name": "LayoutModel",
            "_view_count": null,
            "_view_module": "@jupyter-widgets/base",
            "_view_module_version": "1.2.0",
            "_view_name": "LayoutView",
            "align_content": null,
            "align_items": null,
            "align_self": null,
            "border": null,
            "bottom": null,
            "display": null,
            "flex": null,
            "flex_flow": null,
            "grid_area": null,
            "grid_auto_columns": null,
            "grid_auto_flow": null,
            "grid_auto_rows": null,
            "grid_column": null,
            "grid_gap": null,
            "grid_row": null,
            "grid_template_areas": null,
            "grid_template_columns": null,
            "grid_template_rows": null,
            "height": null,
            "justify_content": null,
            "justify_items": null,
            "left": null,
            "margin": null,
            "max_height": null,
            "max_width": null,
            "min_height": null,
            "min_width": null,
            "object_fit": null,
            "object_position": null,
            "order": null,
            "overflow": null,
            "overflow_x": null,
            "overflow_y": null,
            "padding": null,
            "right": null,
            "top": null,
            "visibility": null,
            "width": null
          }
        }
      }
    }
  },
  "nbformat": 4,
  "nbformat_minor": 0
}
